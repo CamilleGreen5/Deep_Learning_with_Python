{
  "nbformat": 4,
  "nbformat_minor": 0,
  "metadata": {
    "colab": {
      "name": "Hyperas.ipynb",
      "provenance": [],
      "collapsed_sections": [
        "ezh0nvATo-6S"
      ],
      "authorship_tag": "ABX9TyM4HAN36yJjX6BcHRd2jOMt",
      "include_colab_link": true
    },
    "kernelspec": {
      "name": "python3",
      "display_name": "Python 3"
    },
    "widgets": {
      "application/vnd.jupyter.widget-state+json": {
        "fdfc68c8005049e78cd13d579d93a38b": {
          "model_module": "@jupyter-widgets/controls",
          "model_name": "HBoxModel",
          "state": {
            "_view_name": "HBoxView",
            "_dom_classes": [],
            "_model_name": "HBoxModel",
            "_view_module": "@jupyter-widgets/controls",
            "_model_module_version": "1.5.0",
            "_view_count": null,
            "_view_module_version": "1.5.0",
            "box_style": "",
            "layout": "IPY_MODEL_3d6a1503fa93488ba68f12ee1806b5d5",
            "_model_module": "@jupyter-widgets/controls",
            "children": [
              "IPY_MODEL_e094c1914e09459c9dbddf2bd55431ca",
              "IPY_MODEL_4743147047f147f09e19821558937473"
            ]
          }
        },
        "3d6a1503fa93488ba68f12ee1806b5d5": {
          "model_module": "@jupyter-widgets/base",
          "model_name": "LayoutModel",
          "state": {
            "_view_name": "LayoutView",
            "grid_template_rows": null,
            "right": null,
            "justify_content": null,
            "_view_module": "@jupyter-widgets/base",
            "overflow": null,
            "_model_module_version": "1.2.0",
            "_view_count": null,
            "flex_flow": null,
            "width": null,
            "min_width": null,
            "border": null,
            "align_items": null,
            "bottom": null,
            "_model_module": "@jupyter-widgets/base",
            "top": null,
            "grid_column": null,
            "overflow_y": null,
            "overflow_x": null,
            "grid_auto_flow": null,
            "grid_area": null,
            "grid_template_columns": null,
            "flex": null,
            "_model_name": "LayoutModel",
            "justify_items": null,
            "grid_row": null,
            "max_height": null,
            "align_content": null,
            "visibility": null,
            "align_self": null,
            "height": null,
            "min_height": null,
            "padding": null,
            "grid_auto_rows": null,
            "grid_gap": null,
            "max_width": null,
            "order": null,
            "_view_module_version": "1.2.0",
            "grid_template_areas": null,
            "object_position": null,
            "object_fit": null,
            "grid_auto_columns": null,
            "margin": null,
            "display": null,
            "left": null
          }
        },
        "e094c1914e09459c9dbddf2bd55431ca": {
          "model_module": "@jupyter-widgets/controls",
          "model_name": "FloatProgressModel",
          "state": {
            "_view_name": "ProgressView",
            "style": "IPY_MODEL_99181b623932432ea33fd400d223d899",
            "_dom_classes": [],
            "description": "100%",
            "_model_name": "FloatProgressModel",
            "bar_style": "success",
            "max": 1,
            "_view_module": "@jupyter-widgets/controls",
            "_model_module_version": "1.5.0",
            "value": 1,
            "_view_count": null,
            "_view_module_version": "1.5.0",
            "orientation": "horizontal",
            "min": 0,
            "description_tooltip": null,
            "_model_module": "@jupyter-widgets/controls",
            "layout": "IPY_MODEL_f3819c207b754765833dd1647d19735e"
          }
        },
        "4743147047f147f09e19821558937473": {
          "model_module": "@jupyter-widgets/controls",
          "model_name": "HTMLModel",
          "state": {
            "_view_name": "HTMLView",
            "style": "IPY_MODEL_24884ca9b8b74c53af6fbf4d405ab741",
            "_dom_classes": [],
            "description": "",
            "_model_name": "HTMLModel",
            "placeholder": "​",
            "_view_module": "@jupyter-widgets/controls",
            "_model_module_version": "1.5.0",
            "value": " 1/1 [00:00&lt;00:00,  2.25it/s]",
            "_view_count": null,
            "_view_module_version": "1.5.0",
            "description_tooltip": null,
            "_model_module": "@jupyter-widgets/controls",
            "layout": "IPY_MODEL_d4231d6cab16404fab5bfc266ab64044"
          }
        },
        "99181b623932432ea33fd400d223d899": {
          "model_module": "@jupyter-widgets/controls",
          "model_name": "ProgressStyleModel",
          "state": {
            "_view_name": "StyleView",
            "_model_name": "ProgressStyleModel",
            "description_width": "initial",
            "_view_module": "@jupyter-widgets/base",
            "_model_module_version": "1.5.0",
            "_view_count": null,
            "_view_module_version": "1.2.0",
            "bar_color": null,
            "_model_module": "@jupyter-widgets/controls"
          }
        },
        "f3819c207b754765833dd1647d19735e": {
          "model_module": "@jupyter-widgets/base",
          "model_name": "LayoutModel",
          "state": {
            "_view_name": "LayoutView",
            "grid_template_rows": null,
            "right": null,
            "justify_content": null,
            "_view_module": "@jupyter-widgets/base",
            "overflow": null,
            "_model_module_version": "1.2.0",
            "_view_count": null,
            "flex_flow": null,
            "width": null,
            "min_width": null,
            "border": null,
            "align_items": null,
            "bottom": null,
            "_model_module": "@jupyter-widgets/base",
            "top": null,
            "grid_column": null,
            "overflow_y": null,
            "overflow_x": null,
            "grid_auto_flow": null,
            "grid_area": null,
            "grid_template_columns": null,
            "flex": null,
            "_model_name": "LayoutModel",
            "justify_items": null,
            "grid_row": null,
            "max_height": null,
            "align_content": null,
            "visibility": null,
            "align_self": null,
            "height": null,
            "min_height": null,
            "padding": null,
            "grid_auto_rows": null,
            "grid_gap": null,
            "max_width": null,
            "order": null,
            "_view_module_version": "1.2.0",
            "grid_template_areas": null,
            "object_position": null,
            "object_fit": null,
            "grid_auto_columns": null,
            "margin": null,
            "display": null,
            "left": null
          }
        },
        "24884ca9b8b74c53af6fbf4d405ab741": {
          "model_module": "@jupyter-widgets/controls",
          "model_name": "DescriptionStyleModel",
          "state": {
            "_view_name": "StyleView",
            "_model_name": "DescriptionStyleModel",
            "description_width": "",
            "_view_module": "@jupyter-widgets/base",
            "_model_module_version": "1.5.0",
            "_view_count": null,
            "_view_module_version": "1.2.0",
            "_model_module": "@jupyter-widgets/controls"
          }
        },
        "d4231d6cab16404fab5bfc266ab64044": {
          "model_module": "@jupyter-widgets/base",
          "model_name": "LayoutModel",
          "state": {
            "_view_name": "LayoutView",
            "grid_template_rows": null,
            "right": null,
            "justify_content": null,
            "_view_module": "@jupyter-widgets/base",
            "overflow": null,
            "_model_module_version": "1.2.0",
            "_view_count": null,
            "flex_flow": null,
            "width": null,
            "min_width": null,
            "border": null,
            "align_items": null,
            "bottom": null,
            "_model_module": "@jupyter-widgets/base",
            "top": null,
            "grid_column": null,
            "overflow_y": null,
            "overflow_x": null,
            "grid_auto_flow": null,
            "grid_area": null,
            "grid_template_columns": null,
            "flex": null,
            "_model_name": "LayoutModel",
            "justify_items": null,
            "grid_row": null,
            "max_height": null,
            "align_content": null,
            "visibility": null,
            "align_self": null,
            "height": null,
            "min_height": null,
            "padding": null,
            "grid_auto_rows": null,
            "grid_gap": null,
            "max_width": null,
            "order": null,
            "_view_module_version": "1.2.0",
            "grid_template_areas": null,
            "object_position": null,
            "object_fit": null,
            "grid_auto_columns": null,
            "margin": null,
            "display": null,
            "left": null
          }
        }
      }
    }
  },
  "cells": [
    {
      "cell_type": "markdown",
      "metadata": {
        "id": "view-in-github",
        "colab_type": "text"
      },
      "source": [
        "<a href=\"https://colab.research.google.com/github/CamilleGreen5/Deep_Learning_with_Python/blob/master/Hyperas.ipynb\" target=\"_parent\"><img src=\"https://colab.research.google.com/assets/colab-badge.svg\" alt=\"Open In Colab\"/></a>"
      ]
    },
    {
      "cell_type": "code",
      "metadata": {
        "id": "5qqpmsEldDMS"
      },
      "source": [
        "!pip install pydub\n",
        "!pip install hyperas"
      ],
      "execution_count": null,
      "outputs": []
    },
    {
      "cell_type": "code",
      "metadata": {
        "id": "39-sLL1fdArM"
      },
      "source": [
        "import tensorflow as tf\n",
        "import tensorflow_datasets as tfds\n",
        "import numpy as np\n",
        "import matplotlib.pyplot as plt\n",
        "import glob\n",
        "import datetime\n",
        "import os\n",
        "import cv2 as cv\n",
        "from scipy.io.wavfile import read, write\n",
        "from scipy.signal import stft, istft\n",
        "from pydub import AudioSegment\n",
        "from tensorflow.keras import models, layers\n",
        "from tqdm.notebook import tqdm"
      ],
      "execution_count": null,
      "outputs": []
    },
    {
      "cell_type": "markdown",
      "metadata": {
        "id": "DMcgim1-pBwT"
      },
      "source": [
        "## **HYPERAS**"
      ]
    },
    {
      "cell_type": "code",
      "metadata": {
        "id": "l98rZxnZptiJ"
      },
      "source": [
        "from __future__ import print_function\n",
        "from hyperopt import Trials, STATUS_OK, tpe\n",
        "from hyperas import optim\n",
        "from hyperas.distributions import choice, uniform, conditional"
      ],
      "execution_count": null,
      "outputs": []
    },
    {
      "cell_type": "code",
      "metadata": {
        "id": "fIf4liMGpwaL"
      },
      "source": [
        "def data():\n",
        "    '''\n",
        "    Data providing function:\n",
        "\n",
        "    Make sure to have every relevant import statement included here and return data as\n",
        "    used in model function below. This function is separated from model() so that hyperopt\n",
        "    won't reload data for each evaluation run.\n",
        "    '''\n",
        "    from keras.datasets import mnist\n",
        "    from keras.utils import np_utils\n",
        "    (X_train, y_train), (X_test, y_test) = mnist.load_data()\n",
        "    X_train = X_train.reshape(60000, 784)\n",
        "    X_test = X_test.reshape(10000, 784)\n",
        "    X_train = X_train.astype('float32')\n",
        "    X_test = X_test.astype('float32')\n",
        "    X_train /= 255\n",
        "    X_test /= 255\n",
        "    nb_classes = 10\n",
        "    Y_train = np_utils.to_categorical(y_train, nb_classes)\n",
        "    Y_test = np_utils.to_categorical(y_test, nb_classes)\n",
        "    return X_train, Y_train, X_test, Y_test"
      ],
      "execution_count": null,
      "outputs": []
    },
    {
      "cell_type": "code",
      "metadata": {
        "id": "GfHUDSKMpym9"
      },
      "source": [
        "def model(X_train, Y_train, X_test, Y_test):\n",
        "    '''\n",
        "    Model providing function:\n",
        "\n",
        "    Create Keras model with double curly brackets dropped-in as needed.\n",
        "    Return value has to be a valid python dictionary with two customary keys:\n",
        "        - loss: Specify a numeric evaluation metric to be minimized\n",
        "        - status: Just use STATUS_OK and see hyperopt documentation if not feasible\n",
        "    The last one is optional, though recommended, namely:\n",
        "        - model: specify the model just created so that we can later use it again.\n",
        "    '''\n",
        "    from keras.models import Sequential\n",
        "    from keras.layers.core import Dense, Dropout, Activation\n",
        "\n",
        "    model = Sequential()\n",
        "    model.add(Dense(512, input_shape=(784,)))\n",
        "    model.add(Activation('relu'))\n",
        "    model.add(Dropout({{uniform(0, 1)}}))\n",
        "    model.add(Dense({{choice([256, 512, 1024])}}))\n",
        "    model.add(Activation({{choice(['relu', 'sigmoid'])}}))\n",
        "    model.add(Dropout({{uniform(0, 1)}}))\n",
        "\n",
        "    # If we choose 'four', add an additional fourth layer\n",
        "    if conditional({{choice(['three', 'four'])}}) == 'four':\n",
        "        model.add(Dense(100))\n",
        "        # We can also choose between complete sets of layers\n",
        "        model.add({{choice([Dropout(0.5), Activation('linear')])}})\n",
        "        model.add(Activation('relu'))\n",
        "\n",
        "    model.add(Dense(10))\n",
        "    model.add(Activation('softmax'))\n",
        "\n",
        "    model.compile(loss='categorical_crossentropy', optimizer={{choice(['rmsprop', 'adam', 'sgd'])}})\n",
        "\n",
        "    model.fit(X_train, Y_train,\n",
        "              batch_size={{choice([64, 128])}},\n",
        "              nb_epoch=1,\n",
        "              show_accuracy=True,\n",
        "              verbose=2,\n",
        "              validation_data=(X_test, Y_test))\n",
        "    score, acc = model.evaluate(X_test, Y_test, show_accuracy=True, verbose=0)\n",
        "    print('Test accuracy:', acc)\n",
        "    return {'loss': -acc, 'status': STATUS_OK, 'model': model}"
      ],
      "execution_count": null,
      "outputs": []
    },
    {
      "cell_type": "code",
      "metadata": {
        "id": "6AWbwstxpGOC"
      },
      "source": [
        "best_run, best_model = optim.minimize(model=model,\n",
        "                                      data=data,\n",
        "                                      algo=tpe.suggest,\n",
        "                                      max_evals=5,\n",
        "                                      trials=Trials())\n",
        "X_train, Y_train, X_test, Y_test = data()\n",
        "print(\"Evalutation of best performing model:\")\n",
        "print(best_model.evaluate(X_test, Y_test))"
      ],
      "execution_count": null,
      "outputs": []
    },
    {
      "cell_type": "markdown",
      "metadata": {
        "id": "ezh0nvATo-6S"
      },
      "source": [
        "## **TEST**"
      ]
    },
    {
      "cell_type": "code",
      "metadata": {
        "id": "cqPtYYOLcxJR"
      },
      "source": [
        "def load_and_convert_data(train_mp3_data, add_noise_to_sample=False):\n",
        "    \"\"\"\n",
        "    function to load mp3 data, only the sample, and convert it to array, then to f-t-domain\n",
        "    -- train_mp3_data : list of mp3 data to load\n",
        "    -- add_noise_to_sample : True/False indicate if noise has to be added\n",
        "    -- return : abs and im part of the sample, some characteristic of the sample\n",
        "    \"\"\"\n",
        "    samples = []\n",
        "    im_samples = []\n",
        "    i = 0\n",
        "\n",
        "    for path_to_mp3_file in tqdm(train_mp3_data):\n",
        "\n",
        "        # load mp3 sound to array\n",
        "        loaded_sound = AudioSegment.from_mp3(path_to_mp3_file)\n",
        "        array_sound = np.array(loaded_sound.get_array_of_samples(), np.float64)\n",
        "\n",
        "        len_arr = len(array_sound)\n",
        "\n",
        "        plt.plot([i for i in range(len(array_sound))], array_sound, 'b')\n",
        "        plt.show()\n",
        "\n",
        "        # normalize array\n",
        "        mean = np.mean(array_sound, axis=0)\n",
        "        array_sound -= mean\n",
        "\n",
        "        if add_noise_to_sample:\n",
        "            array_sound = add_noise(array_sound)\n",
        "            # save reconverted sound to wav\n",
        "            path_to_wav_file = './noisy_sound0.wav'\n",
        "            write(path_to_wav_file, 48000, array_sound)\n",
        "\n",
        "        max_arr = np.max(np.abs(array_sound))\n",
        "        array_sound = np.array(array_sound/max_arr, np.float32)\n",
        "\n",
        "        # convert sample to to F_T_space\n",
        "        f, t, array_stft = stft(array_sound, fs=48000, nperseg=1000)\n",
        "        sample_abs_stft = np.abs(array_stft)\n",
        "        sample_im_stft = np.imag(array_stft)\n",
        "\n",
        "        # padding \n",
        "        pad_length = 1000 - np.shape(sample_abs_stft)[1]\n",
        "        sample_abs_stft = np.pad(sample_abs_stft, ((0,0), (0, pad_length)))\n",
        "        sample_im_stft = np.pad(sample_im_stft, ((0,0), (0, pad_length)))\n",
        "\n",
        "        samples.append(sample_abs_stft)\n",
        "        im_samples.append(sample_im_stft)\n",
        "        i+=1\n",
        "\n",
        "    samples = np.array(samples)\n",
        "    im_samples = np.array(im_samples)\n",
        "\n",
        "    return samples, im_samples, mean, max_arr, len_arr"
      ],
      "execution_count": null,
      "outputs": []
    },
    {
      "cell_type": "code",
      "metadata": {
        "id": "EebFIe_AdTX7"
      },
      "source": [
        "def add_noise(array_sound):\n",
        "    \"\"\"\n",
        "    function to add gaussian noise to an array\n",
        "    -- array_sound : array which to add noise\n",
        "    -- return : the noisy array\n",
        "    \"\"\"\n",
        "    max_1 = np.max(array_sound)\n",
        "    noise = np.random.normal(0, 0.02*max_1, len(array_sound))\n",
        "    array_sound_noisy = np.add(noise, array_sound)\n",
        "    max_2 = np.max(array_sound_noisy)\n",
        "    array_sound_noisy = (array_sound_noisy*max_1)//max_2\n",
        "\n",
        "    return np.array(array_sound_noisy, np.int16)"
      ],
      "execution_count": null,
      "outputs": []
    },
    {
      "cell_type": "code",
      "metadata": {
        "id": "ie0dSRzbc1yj"
      },
      "source": [
        "def denoising(samples, imag_samples, mean, max_arr, len_arr):\n",
        "    \"\"\"\n",
        "    function to denoise data by loading the model, predict and convert back to array of sound\n",
        "    -- samples : sample to denoise\n",
        "    -- imag_samples : im part of the sample to denoise\n",
        "    -- some characteristics of the sample\n",
        "    -- return : the denoised array\n",
        "    \"\"\"\n",
        "    # load model\n",
        "    model = tf.keras.models.load_model('./mymodel.h5')\n",
        "\n",
        "    # reshape data\n",
        "    samples = np.squeeze(samples)\n",
        "    imag_samples = np.squeeze(imag_samples)\n",
        "    samples = np.transpose(samples)\n",
        "    imag_samples = np.transpose(imag_samples)\n",
        "    samples = np.expand_dims(samples, axis=0)\n",
        "    imag_samples = np.expand_dims(imag_samples, axis=0)\n",
        "    samples = np.expand_dims(samples, axis=-1)\n",
        "    imag_samples = np.expand_dims(imag_samples, axis=-1)\n",
        "    # print(np.shape(samples))\n",
        "\n",
        "    # predict\n",
        "    denoised_samples = model.predict(samples)\n",
        "\n",
        "    denoised_samples = np.transpose(denoised_samples)\n",
        "    imag_samples = np.transpose(imag_samples)\n",
        "\n",
        "    # print(np.shape(denoised_samples))\n",
        "\n",
        "    # plt.pcolormesh(denoised_samples[:len_arr,:])\n",
        "    # plt.title('STFT denoised Magnitude')\n",
        "    # plt.ylabel('Frequency [Hz]')\n",
        "    # plt.xlabel('Time [sec]')\n",
        "    # plt.show()\n",
        "\n",
        "    denoised_stft = denoised_samples + 1j*imag_samples\n",
        "    denoised_stft = np.squeeze(denoised_stft)\n",
        "    # print(np.shape(denoised_stft))\n",
        "\n",
        "    # convert back to sound from F_T_space\n",
        "    t, desnoised_array_sound = istft(denoised_stft, fs=48000, nperseg=1000)\n",
        "    desnoised_array_sound = np.array(desnoised_array_sound)\n",
        "    desnoised_array_sound *= max_arr\n",
        "    desnoised_array_sound += mean\n",
        "    desnoised_array_sound = np.array(desnoised_array_sound, np.int16)\n",
        "\n",
        "    return desnoised_array_sound\n"
      ],
      "execution_count": null,
      "outputs": []
    },
    {
      "cell_type": "code",
      "metadata": {
        "id": "o0TkiLsTc8BK",
        "outputId": "652431cd-d718-4309-fc49-aa44cd5c2d8a",
        "colab": {
          "base_uri": "https://localhost:8080/",
          "height": 582,
          "referenced_widgets": [
            "fdfc68c8005049e78cd13d579d93a38b",
            "3d6a1503fa93488ba68f12ee1806b5d5",
            "e094c1914e09459c9dbddf2bd55431ca",
            "4743147047f147f09e19821558937473",
            "99181b623932432ea33fd400d223d899",
            "f3819c207b754765833dd1647d19735e",
            "24884ca9b8b74c53af6fbf4d405ab741",
            "d4231d6cab16404fab5bfc266ab64044"
          ]
        }
      },
      "source": [
        "# load a mp3 file, convert it to array and then to f-t-domain, add noise, predict the denoised array and save it\n",
        "\n",
        "list_files = [\"./common_voice_fr_18157595.mp3\"]\n",
        "samples, imag_samples, mean, max_arr, len_arr = load_and_convert_data(list_files, True)\n",
        "\n",
        "denoised_array_sound = denoising(samples, imag_samples, mean, max_arr, len_arr)\n",
        "# print(len_arr)\n",
        "denoised_array_sound = denoised_array_sound[:len_arr]\n",
        "print(np.shape(denoised_array_sound))\n",
        "\n",
        "plt.plot([i/48000 for i in range(len_arr)], denoised_array_sound, 'r')\n",
        "plt.show()\n",
        "\n",
        "# print(np.shape(denoi sed_samples))\n",
        "# samples, x = reshape_data(samples)\n",
        "# samples = np.transpose(samples)\n",
        "# samples = samples[:len_arr,:]\n",
        "\n",
        "# print(np.shape(samples))\n",
        "# print(np.shape(denoised_array_sound))\n",
        "\n",
        "# plt.pcolormesh(samples)\n",
        "# plt.title('STFT sample Magnitude')\n",
        "# plt.ylabel('Frequency [Hz]')\n",
        "# plt.xlabel('Time [sec]')\n",
        "# plt.show()\n",
        "\n",
        "# save reconverted sound to wav\n",
        "path_to_wav_file = './denoised_sound0.wav'\n",
        "write(path_to_wav_file, 48000, denoised_array_sound)\n",
        "    "
      ],
      "execution_count": null,
      "outputs": [
        {
          "output_type": "display_data",
          "data": {
            "application/vnd.jupyter.widget-view+json": {
              "model_id": "fdfc68c8005049e78cd13d579d93a38b",
              "version_minor": 0,
              "version_major": 2
            },
            "text/plain": [
              "HBox(children=(FloatProgress(value=0.0, max=1.0), HTML(value='')))"
            ]
          },
          "metadata": {
            "tags": []
          }
        },
        {
          "output_type": "display_data",
          "data": {
            "image/png": "[encoded data removed]",
            "text/plain": [
              "<Figure size 432x288 with 1 Axes>"
            ]
          },
          "metadata": {
            "tags": [],
            "needs_background": "light"
          }
        },
        {
          "output_type": "stream",
          "text": [
            "\n",
            "(231552,)\n"
          ],
          "name": "stdout"
        },
        {
          "output_type": "display_data",
          "data": {
            "image/png": "[encoded data removed]",
            "text/plain": [
              "<Figure size 432x288 with 1 Axes>"
            ]
          },
          "metadata": {
            "tags": [],
            "needs_background": "light"
          }
        }
      ]
    }
  ]
}