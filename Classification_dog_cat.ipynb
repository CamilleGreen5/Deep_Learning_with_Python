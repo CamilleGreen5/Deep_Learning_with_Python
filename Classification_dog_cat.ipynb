{
  "nbformat": 4,
  "nbformat_minor": 0,
  "metadata": {
    "colab": {
      "name": "Classification_dog_cat.ipynb",
      "provenance": [],
      "collapsed_sections": [],
      "authorship_tag": "ABX9TyOvIeksNAH0amjRWVw+DQse",
      "include_colab_link": true
    },
    "kernelspec": {
      "name": "python3",
      "display_name": "Python 3"
    },
    "accelerator": "GPU"
  },
  "cells": [
    {
      "cell_type": "markdown",
      "metadata": {
        "id": "view-in-github",
        "colab_type": "text"
      },
      "source": [
        "<a href=\"https://colab.research.google.com/github/CamilleGreen5/Deep_Learning_with_Python/blob/master/Classification_dog_cat.ipynb\" target=\"_parent\"><img src=\"https://colab.research.google.com/assets/colab-badge.svg\" alt=\"Open In Colab\"/></a>"
      ]
    },
    {
      "cell_type": "markdown",
      "metadata": {
        "id": "PN6YAWKKG1sy",
        "colab_type": "text"
      },
      "source": [
        "## **LOAD DATA**"
      ]
    },
    {
      "cell_type": "code",
      "metadata": {
        "id": "pZfHUkUyPFpb",
        "colab_type": "code",
        "colab": {}
      },
      "source": [
        "!pip install -q kaggle"
      ],
      "execution_count": 8,
      "outputs": []
    },
    {
      "cell_type": "code",
      "metadata": {
        "id": "VuP0kHTLPP00",
        "colab_type": "code",
        "colab": {}
      },
      "source": [
        "from google.colab import files\n",
        "import os\n",
        "import glob\n",
        "import shutil\n",
        "import tensorflow as tf\n",
        "import datetime\n",
        "from tensorflow.keras import layers\n",
        "from tensorflow.keras import models\n",
        "from tensorflow.keras import optimizers\n",
        "from tensorflow.keras.preprocessing.image import ImageDataGenerator"
      ],
      "execution_count": 43,
      "outputs": []
    },
    {
      "cell_type": "code",
      "metadata": {
        "id": "Ry_lzmLfTFxW",
        "colab_type": "code",
        "colab": {}
      },
      "source": [
        "files.upload()"
      ],
      "execution_count": null,
      "outputs": []
    },
    {
      "cell_type": "code",
      "metadata": {
        "id": "gpUWSvbXPZal",
        "colab_type": "code",
        "colab": {}
      },
      "source": [
        "# !rm -r sample_data\n",
        "!mkdir kaggle\n",
        "!cp kaggle.json kaggle\n",
        "!rm kaggle.json\n",
        "!chmod 600 kaggle/kaggle.json"
      ],
      "execution_count": null,
      "outputs": []
    },
    {
      "cell_type": "code",
      "metadata": {
        "id": "UzufIFnQQJqQ",
        "colab_type": "code",
        "colab": {}
      },
      "source": [
        "# !kaggle datasets list"
      ],
      "execution_count": null,
      "outputs": []
    },
    {
      "cell_type": "code",
      "metadata": {
        "id": "2exQXPQsoVUN",
        "colab_type": "code",
        "colab": {}
      },
      "source": [
        "!kaggle competitions download -c 'dogs-vs-cats'"
      ],
      "execution_count": null,
      "outputs": []
    },
    {
      "cell_type": "code",
      "metadata": {
        "id": "BAAEx51lQb79",
        "colab_type": "code",
        "colab": {}
      },
      "source": [
        "!unzip train.zip\n",
        "!unzip test1.zip\n",
        "!rm train.zip\n",
        "!rm test1.zip"
      ],
      "execution_count": 25,
      "outputs": []
    },
    {
      "cell_type": "code",
      "metadata": {
        "id": "TeixFfpEkolz",
        "colab_type": "code",
        "colab": {}
      },
      "source": [
        "!mkdir data\n",
        "!mkdir data/train_data\n",
        "!mkdir data/train_data/dog\n",
        "!mkdir data/train_data/cat\n",
        "!mkdir data/val_data\n",
        "!mkdir data/val_data/dog\n",
        "!mkdir data/val_data/cat\n",
        "!mkdir data/test_data\n",
        "!mkdir data/test_data/dog\n",
        "!mkdir data/test_data/cat\n",
        "\n",
        "train_dir = \"data/train_data\"\n",
        "val_dir = \"data/val_data\"\n",
        "test_dir = \"data/test_data\"\n",
        "\n",
        "train_dog_dir = \"data/train_data/dog\"\n",
        "train_cat_dir = \"data/train_data/cat\"\n",
        "val_dog_dir = \"data/val_data/dog\"\n",
        "val_cat_dir = \"data/val_data/cat\"\n",
        "test_dog_dir = \"data/test_data/dog\"\n",
        "test_cat_dir = \"data/test_data/cat\""
      ],
      "execution_count": null,
      "outputs": []
    },
    {
      "cell_type": "code",
      "metadata": {
        "id": "DJ1WVqmsRD3C",
        "colab_type": "code",
        "colab": {}
      },
      "source": [
        "list_dog = glob.glob(\"./train/dog*\")\n",
        "list_cat = glob.glob(\"./train/cat*\")\n",
        "list_train_dog = list_dog[:2000]\n",
        "list_train_cat = list_cat[:2000]\n",
        "list_val_dog = list_dog[2000:3000]\n",
        "list_val_cat = list_cat[2000:3000]\n",
        "# print(len(list_train_dog), len(list_val_dog))\n",
        "# print(len(list_train_cat), len(list_val_cat))\n",
        "for path in list_train_dog:\n",
        "    shutil.copy(path, train_dog_dir)\n",
        "    os.remove(path)\n",
        "for path in list_train_cat:\n",
        "    shutil.copy(path, train_cat_dir)\n",
        "    os.remove(path)\n",
        "for path in list_val_cat:\n",
        "    shutil.copy(path, val_cat_dir)\n",
        "    os.remove(path)\n",
        "for path in list_val_dog:\n",
        "    shutil.copy(path, val_dog_dir)\n",
        "    os.remove(path)"
      ],
      "execution_count": 34,
      "outputs": []
    },
    {
      "cell_type": "markdown",
      "metadata": {
        "id": "z2_IHAogG6Lz",
        "colab_type": "text"
      },
      "source": [
        "## **MODEL**"
      ]
    },
    {
      "cell_type": "code",
      "metadata": {
        "id": "xjzeH4LxM4l6",
        "colab_type": "code",
        "colab": {}
      },
      "source": [
        "# Load the TensorBoard notebook extension\n",
        "%reload_ext tensorboard"
      ],
      "execution_count": 36,
      "outputs": []
    },
    {
      "cell_type": "code",
      "metadata": {
        "id": "avw4UskZGykl",
        "colab_type": "code",
        "colab": {}
      },
      "source": [
        "def build_model():\n",
        "    model = models.Sequential()\n",
        "    model.add(layers.Conv2D(32, (3, 3), activation='relu', input_shape=(150, 150, 3)))\n",
        "    model.add(layers.MaxPooling2D((2, 2)))\n",
        "    model.add(layers.Conv2D(64, (3, 3), activation='relu'))\n",
        "    model.add(layers.MaxPooling2D((2, 2)))\n",
        "    model.add(layers.Conv2D(128, (3, 3), activation='relu'))\n",
        "    model.add(layers.MaxPooling2D((2, 2)))\n",
        "    model.add(layers.Conv2D(128, (3, 3), activation='relu'))\n",
        "    model.add(layers.MaxPooling2D((2, 2)))\n",
        "    model.add(layers.Flatten())\n",
        "    model.add(layers.Dense(512, activation='relu'))\n",
        "    model.add(layers.Dense(1, activation='sigmoid'))\n",
        "    model.compile(loss='binary_crossentropy', optimizer=optimizers.RMSprop(lr=1e-4), metrics=['acc'])\n",
        "    return model"
      ],
      "execution_count": 50,
      "outputs": []
    },
    {
      "cell_type": "code",
      "metadata": {
        "id": "3wGz6nDmK5f5",
        "colab_type": "code",
        "colab": {}
      },
      "source": [
        "train_datagen = ImageDataGenerator(rescale=1./255)\n",
        "test_datagen = ImageDataGenerator(rescale=1./255)\n",
        "train_generator = train_datagen.flow_from_directory(train_dir, target_size=(150, 150), batch_size=20, class_mode='binary')\n",
        "validation_generator = test_datagen.flow_from_directory(val_dir, target_size=(150, 150), batch_size=20, class_mode='binary')\n"
      ],
      "execution_count": null,
      "outputs": []
    },
    {
      "cell_type": "code",
      "metadata": {
        "id": "zsMuf1yILOqx",
        "colab_type": "code",
        "colab": {
          "base_uri": "https://localhost:8080/",
          "height": 280
        },
        "outputId": "6ebd2ff8-13b2-4824-dc86-139a61b15d11"
      },
      "source": [
        "log_dir = \"logs/fit/\" + datetime.datetime.now().strftime(\"%Y%m%d-%H%M%S\")\n",
        "tensorboard_callback = tf.keras.callbacks.TensorBoard(log_dir=log_dir, histogram_freq=1)\n",
        "\n",
        "model = build_model()\n",
        "history = model.fit(train_generator, steps_per_epoch=100, epochs=30, validation_data=validation_generator, \\\n",
        "                    validation_steps=50, callbacks=[tensorboard_callback])\n",
        "model.save(\"cat_and_dog_classifier.h5\")"
      ],
      "execution_count": null,
      "outputs": [
        {
          "output_type": "stream",
          "text": [
            "Epoch 1/30\n",
            "  1/100 [..............................] - ETA: 0s - loss: 0.6924 - acc: 0.6000WARNING:tensorflow:From /usr/local/lib/python3.6/dist-packages/tensorflow/python/ops/summary_ops_v2.py:1277: stop (from tensorflow.python.eager.profiler) is deprecated and will be removed after 2020-07-01.\n",
            "Instructions for updating:\n",
            "use `tf.profiler.experimental.stop` instead.\n",
            "  2/100 [..............................] - ETA: 6s - loss: 0.6696 - acc: 0.6250WARNING:tensorflow:Callbacks method `on_train_batch_end` is slow compared to the batch time (batch time: 0.0391s vs `on_train_batch_end` time: 0.1011s). Check your callbacks.\n",
            "100/100 [==============================] - 12s 116ms/step - loss: 0.6905 - acc: 0.5385 - val_loss: 0.6792 - val_acc: 0.5630\n",
            "Epoch 2/30\n",
            "100/100 [==============================] - 11s 113ms/step - loss: 0.6612 - acc: 0.5985 - val_loss: 0.6610 - val_acc: 0.5870\n",
            "Epoch 3/30\n",
            "100/100 [==============================] - 11s 113ms/step - loss: 0.6152 - acc: 0.6675 - val_loss: 0.5949 - val_acc: 0.6690\n",
            "Epoch 4/30\n",
            "100/100 [==============================] - 11s 111ms/step - loss: 0.5738 - acc: 0.7105 - val_loss: 0.6495 - val_acc: 0.6500\n",
            "Epoch 5/30\n",
            " 29/100 [=======>......................] - ETA: 5s - loss: 0.5607 - acc: 0.7224"
          ],
          "name": "stdout"
        }
      ]
    },
    {
      "cell_type": "code",
      "metadata": {
        "id": "iUPy3aFZUIQl",
        "colab_type": "code",
        "colab": {}
      },
      "source": [
        "%tensorboard --logdir logs/fit --host localhost"
      ],
      "execution_count": null,
      "outputs": []
    }
  ]
}