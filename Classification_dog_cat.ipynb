{
  "nbformat": 4,
  "nbformat_minor": 0,
  "metadata": {
    "colab": {
      "name": "Classification_dog_cat.ipynb",
      "provenance": [],
      "collapsed_sections": []
    },
    "kernelspec": {
      "name": "python3",
      "display_name": "Python 3"
    },
    "accelerator": "GPU"
  },
  "cells": [
    {
      "cell_type": "markdown",
      "metadata": {
        "id": "PN6YAWKKG1sy",
        "colab_type": "text"
      },
      "source": [
        "## **LOAD DATA**"
      ]
    },
    {
      "cell_type": "code",
      "metadata": {
        "id": "fT6kkLS3j9a8",
        "colab_type": "code",
        "colab": {}
      },
      "source": [
        "# !rm -r sample_data\n",
        "!rm dogs-vs-cats.zip"
      ],
      "execution_count": 4,
      "outputs": []
    },
    {
      "cell_type": "code",
      "metadata": {
        "id": "2exQXPQsoVUN",
        "colab_type": "code",
        "colab": {}
      },
      "source": [
        "!unzip train.zip"
      ],
      "execution_count": null,
      "outputs": []
    },
    {
      "cell_type": "code",
      "metadata": {
        "id": "TeixFfpEkolz",
        "colab_type": "code",
        "colab": {}
      },
      "source": [
        "!mkdir data\n",
        "!mkdir data/train_data\n",
        "!mkdir data/train_data/dog\n",
        "!mkdir data/train_data/cat\n",
        "!mkdir data/val_data\n",
        "!mkdir data/val_data/dog\n",
        "!mkdir data/val_data/cat\n",
        "!mkdir data/test_data\n",
        "!mkdir data/test_data/dog\n",
        "!mkdir data/test_data/cat\n",
        "train_dog_dir = \"data/train_data/dog\"\n",
        "train_cat_dir = \"data/train_data/cat\"\n",
        "val_dog_dir = \"data/val_data/dog\"\n",
        "val_cat_dir = \"data/val_data/cat\"\n",
        "test_dog_dir = \"data/test_data/dog\"\n",
        "test_cat_dir = \"data/test_data/cat\""
      ],
      "execution_count": 5,
      "outputs": []
    },
    {
      "cell_type": "code",
      "metadata": {
        "id": "7nesrMVslad8",
        "colab_type": "code",
        "colab": {}
      },
      "source": [
        "!cp train/dog/* train_dog_dir/\n",
        "!cp train/cat/* train_cat_dir/\n"
      ],
      "execution_count": null,
      "outputs": []
    },
    {
      "cell_type": "markdown",
      "metadata": {
        "id": "z2_IHAogG6Lz",
        "colab_type": "text"
      },
      "source": [
        "## **MODEL**"
      ]
    },
    {
      "cell_type": "code",
      "metadata": {
        "id": "weh_PENRkesn",
        "colab_type": "code",
        "colab": {}
      },
      "source": [
        "import os\n",
        "import tensorflow as tf\n",
        "from tf.keras import layers\n",
        "from tf.keras import models"
      ],
      "execution_count": 4,
      "outputs": []
    },
    {
      "cell_type": "code",
      "metadata": {
        "id": "avw4UskZGykl",
        "colab_type": "code",
        "colab": {}
      },
      "source": [
        "model = models.Sequential()\n",
        "model.add(layers.Conv2D(32, (3, 3), activation='relu', input_shape=(150, 150, 3)))\n",
        "model.add(layers.MaxPooling2D((2, 2)))\n",
        "model.add(layers.Conv2D(64, (3, 3), activation='relu'))\n",
        "model.add(layers.MaxPooling2D((2, 2)))\n",
        "model.add(layers.Conv2D(128, (3, 3), activation='relu'))\n",
        "model.add(layers.MaxPooling2D((2, 2)))\n",
        "model.add(layers.Conv2D(128, (3, 3), activation='relu'))\n",
        "model.add(layers.MaxPooling2D((2, 2)))\n",
        "model.add(layers.Flatten())\n",
        "model.add(layers.Dense(512, activation='relu'))\n",
        "model.add(layers.Dense(512, activation='sigmoid'))"
      ],
      "execution_count": null,
      "outputs": []
    }
  ]
}