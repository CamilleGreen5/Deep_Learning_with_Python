{
  "nbformat": 4,
  "nbformat_minor": 0,
  "metadata": {
    "kernelspec": {
      "display_name": "Python 3",
      "language": "python",
      "name": "python3"
    },
    "language_info": {
      "codemirror_mode": {
        "name": "ipython",
        "version": 3
      },
      "file_extension": ".py",
      "mimetype": "text/x-python",
      "name": "python",
      "nbconvert_exporter": "python",
      "pygments_lexer": "ipython3",
      "version": "3.8.2"
    },
    "colab": {
      "name": "predict_house_price.ipynb",
      "provenance": [],
      "collapsed_sections": [],
      "include_colab_link": true
    },
    "accelerator": "GPU"
  },
  "cells": [
    {
      "cell_type": "markdown",
      "metadata": {
        "id": "view-in-github",
        "colab_type": "text"
      },
      "source": [
        "<a href=\"https://colab.research.google.com/github/CamilleGreen5/Deep_Learning_with_Python/blob/master/predict_house_price.ipynb\" target=\"_parent\"><img src=\"https://colab.research.google.com/assets/colab-badge.svg\" alt=\"Open In Colab\"/></a>"
      ]
    },
    {
      "cell_type": "code",
      "metadata": {
        "id": "8LoxQfQEQlMt",
        "colab_type": "code",
        "colab": {}
      },
      "source": [
        "import tensorflow\n",
        "import numpy as np\n",
        "from tensorflow.keras.datasets import boston_housing\n",
        "from tensorflow.keras import models, layers\n",
        "import matplotlib.pyplot as plt"
      ],
      "execution_count": 1,
      "outputs": []
    },
    {
      "cell_type": "code",
      "metadata": {
        "id": "IDl-JFdLQlND",
        "colab_type": "code",
        "colab": {}
      },
      "source": [
        "(train_data, train_targets), (test_data, test_targets) = boston_housing.load_data()"
      ],
      "execution_count": 8,
      "outputs": []
    },
    {
      "cell_type": "code",
      "metadata": {
        "id": "j2vNpPUYQ5dX",
        "colab_type": "code",
        "colab": {}
      },
      "source": [
        "mean = train_data.mean(axis=0)\n",
        "train_data -= mean\n",
        "std = train_data.std(axis=0)\n",
        "train_data /= std\n",
        "\n",
        "test_data -= mean\n",
        "test_data /= std"
      ],
      "execution_count": 10,
      "outputs": []
    },
    {
      "cell_type": "code",
      "metadata": {
        "id": "3MwgiuncQ7dO",
        "colab_type": "code",
        "colab": {}
      },
      "source": [
        "def build_model():\n",
        "\n",
        "    model = models.Sequential()\n",
        "    model.add(layers.Dense(64, activation='relu', input_shape=(train_data.shape[1],)))\n",
        "    model.add(layers.Dense(64, activation='relu'))\n",
        "    model.add(layers.Dense(1))\n",
        "    model.compile(optimizer='rmsprop', loss='mse', metrics=['mae'])\n",
        "    \n",
        "    return model"
      ],
      "execution_count": 9,
      "outputs": []
    },
    {
      "cell_type": "code",
      "metadata": {
        "id": "Z_a1FbhTQ9iX",
        "colab_type": "code",
        "colab": {}
      },
      "source": [
        "k = 4\n",
        "num_val_samples = len(train_data)//k\n",
        "num_epochs = 200\n",
        "all_scores = []\n",
        "all_mae_histories = []"
      ],
      "execution_count": 34,
      "outputs": []
    },
    {
      "cell_type": "code",
      "metadata": {
        "id": "rGVQmwD1Nj38",
        "colab_type": "code",
        "colab": {
          "base_uri": "https://localhost:8080/",
          "height": 86
        },
        "outputId": "742fe6c6-5e49-4543-d900-1d6dc0379e66"
      },
      "source": [
        "for i in range(k):\n",
        "    print('processing fold #', i+1)\n",
        "    val_data = train_data[i*num_val_samples:(i+1)*num_val_samples]\n",
        "    val_targets = train_targets[i*num_val_samples:(i+1)*num_val_samples]\n",
        "\n",
        "    partial_train_data = np.concatenate(\n",
        "        [train_data[:i*num_val_samples],\n",
        "        train_data[(i+1)*num_val_samples:]],\n",
        "        axis = 0)\n",
        "    partial_train_targets = np.concatenate(\n",
        "        [train_targets[:i*num_val_samples],\n",
        "        train_targets[(i+1)*num_val_samples:]],\n",
        "        axis = 0)\n",
        "    model = build_model()\n",
        "    history = model.fit(partial_train_data, partial_train_targets, validation_data=(val_data,val_targets), epochs=num_epochs, batch_size=1, verbose=0)\n",
        "    mae_history = history.history['val_mae']\n",
        "    all_mae_histories.append(mae_history)"
      ],
      "execution_count": 42,
      "outputs": [
        {
          "output_type": "stream",
          "text": [
            "processing fold # 1\n",
            "processing fold # 2\n",
            "processing fold # 3\n",
            "processing fold # 4\n"
          ],
          "name": "stdout"
        }
      ]
    },
    {
      "cell_type": "code",
      "metadata": {
        "id": "_3d5T-GhZ0M7",
        "colab_type": "code",
        "colab": {
          "base_uri": "https://localhost:8080/",
          "height": 34
        },
        "outputId": "4ec491bc-95a8-488a-b1ef-41b530edf0be"
      },
      "source": [
        "history.history.keys()"
      ],
      "execution_count": 41,
      "outputs": [
        {
          "output_type": "execute_result",
          "data": {
            "text/plain": [
              "dict_keys(['loss', 'mae', 'val_loss', 'val_mae'])"
            ]
          },
          "metadata": {
            "tags": []
          },
          "execution_count": 41
        }
      ]
    },
    {
      "cell_type": "code",
      "metadata": {
        "id": "h2NZ1xqyQl_E",
        "colab_type": "code",
        "colab": {}
      },
      "source": [
        "average_mae_history = [np.mean([x[i] for x in all_mae_histories]) for i in range(num_epochs)]\n",
        "average_mae_history = average_mae_history[10:]"
      ],
      "execution_count": 43,
      "outputs": []
    },
    {
      "cell_type": "code",
      "metadata": {
        "id": "b5mNrbduSaX7",
        "colab_type": "code",
        "colab": {
          "base_uri": "https://localhost:8080/",
          "height": 295
        },
        "outputId": "0ff4e46f-276e-45f0-86ae-57bba6bfd94a"
      },
      "source": [
        "epochs = range(1, len(average_mae_history)+1)\n",
        "plt.plot(epochs, average_mae_history, 'b', label='average_mae_history')\n",
        "plt.title('Training and Validation mae')\n",
        "plt.xlabel('Epochs')\n",
        "plt.ylabel('Validation mae')\n",
        "plt.legend()\n",
        "\n",
        "plt.show()"
      ],
      "execution_count": 44,
      "outputs": [
        {
          "output_type": "display_data",
          "data": {
            "image/png": "[encoded data removed]",
            "text/plain": [
              "<Figure size 432x288 with 1 Axes>"
            ]
          },
          "metadata": {
            "tags": [],
            "needs_background": "light"
          }
        }
      ]
    },
    {
      "cell_type": "code",
      "metadata": {
        "id": "Ne-zr9t4UT39",
        "colab_type": "code",
        "colab": {
          "base_uri": "https://localhost:8080/",
          "height": 52
        },
        "outputId": "90a4145a-c652-45aa-bbf5-3f1149c8fd2c"
      },
      "source": [
        "test_mse_scores, test_mae_scores = model.evaluate(test_data, test_targets)\n",
        "print(test_mae_scores)"
      ],
      "execution_count": 45,
      "outputs": [
        {
          "output_type": "stream",
          "text": [
            "4/4 [==============================] - 0s 2ms/step - loss: 14.4203 - mae: 2.7959\n",
            "2.7958691120147705\n"
          ],
          "name": "stdout"
        }
      ]
    }
  ]
}