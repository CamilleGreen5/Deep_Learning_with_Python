{
  "nbformat": 4,
  "nbformat_minor": 0,
  "metadata": {
    "colab": {
      "name": "Noise_speech_reduction.ipynb",
      "provenance": [],
      "collapsed_sections": [],
      "toc_visible": true,
      "authorship_tag": "ABX9TyMV59/PZu+Tc/VmIzSMnEYf",
      "include_colab_link": true
    },
    "kernelspec": {
      "name": "python3",
      "display_name": "Python 3"
    },
    "accelerator": "GPU"
  },
  "cells": [
    {
      "cell_type": "markdown",
      "metadata": {
        "id": "view-in-github",
        "colab_type": "text"
      },
      "source": [
        "<a href=\"https://colab.research.google.com/github/CamilleGreen5/Deep_Learning_with_Python/blob/master/Noise_speech_reduction.ipynb\" target=\"_parent\"><img src=\"https://colab.research.google.com/assets/colab-badge.svg\" alt=\"Open In Colab\"/></a>"
      ]
    },
    {
      "cell_type": "code",
      "metadata": {
        "id": "tfXnXSBj-05D",
        "colab_type": "code",
        "colab": {
          "base_uri": "https://localhost:8080/",
          "height": 191
        },
        "outputId": "3c283c90-5dec-4a50-9fc3-399675cbaab0"
      },
      "source": [
        "!pip install tdqm\n",
        "!pip install pydub"
      ],
      "execution_count": 72,
      "outputs": [
        {
          "output_type": "stream",
          "text": [
            "Collecting tdqm\n",
            "  Downloading https://files.pythonhosted.org/packages/5a/38/58c9e22b95e98666fe29f35e217ab6126a03798dadf3f4f8f3e5f898510b/tdqm-0.0.1.tar.gz\n",
            "Requirement already satisfied: tqdm in /usr/local/lib/python3.6/dist-packages (from tdqm) (4.41.1)\n",
            "Building wheels for collected packages: tdqm\n",
            "  Building wheel for tdqm (setup.py) ... \u001b[?25l\u001b[?25hdone\n",
            "  Created wheel for tdqm: filename=tdqm-0.0.1-cp36-none-any.whl size=1322 sha256=0c69c69bf175064599d2638469dc1b99dd3be3d121d4330396d6b8761ed0e5de\n",
            "  Stored in directory: /root/.cache/pip/wheels/d5/c0/4b/a98405d8b13071ab9a2be7beeef6820d26349ee46651c16a0d\n",
            "Successfully built tdqm\n",
            "Installing collected packages: tdqm\n",
            "Successfully installed tdqm-0.0.1\n"
          ],
          "name": "stdout"
        }
      ]
    },
    {
      "cell_type": "code",
      "metadata": {
        "id": "G7GhHp8oNRF9",
        "colab_type": "code",
        "colab": {}
      },
      "source": [
        "import tensorflow as tf\n",
        "import tensorflow_datasets as tfds\n",
        "import numpy as np\n",
        "import matplotlib.pyplot as plt\n",
        "import requests\n",
        "from scipy.io.wavfile import read, write\n",
        "from scipy.signal import stft, istft\n",
        "import glob\n",
        "from pydub import AudioSegment"
      ],
      "execution_count": 10,
      "outputs": []
    },
    {
      "cell_type": "code",
      "metadata": {
        "id": "RzPdSF9gRJcb",
        "colab_type": "code",
        "colab": {
          "base_uri": "https://localhost:8080/",
          "height": 228
        },
        "outputId": "57136321-915b-4032-fb2b-8eecec1c19b6"
      },
      "source": [
        "!wget https://voice-prod-bundler-ee1969a6ce8178826482b88e843c335139bd3fb4.s3.amazonaws.com/cv-corpus-5.1-2020-06-22/fr.tar.gz"
      ],
      "execution_count": 4,
      "outputs": [
        {
          "output_type": "stream",
          "text": [
            "--2020-09-14 07:08:58--  https://voice-prod-bundler-ee1969a6ce8178826482b88e843c335139bd3fb4.s3.amazonaws.com/cv-corpus-5.1-2020-06-22/fr.tar.gz\n",
            "Resolving voice-prod-bundler-ee1969a6ce8178826482b88e843c335139bd3fb4.s3.amazonaws.com (voice-prod-bundler-ee1969a6ce8178826482b88e843c335139bd3fb4.s3.amazonaws.com)... 52.218.216.243\n",
            "Connecting to voice-prod-bundler-ee1969a6ce8178826482b88e843c335139bd3fb4.s3.amazonaws.com (voice-prod-bundler-ee1969a6ce8178826482b88e843c335139bd3fb4.s3.amazonaws.com)|52.218.216.243|:443... connected.\n",
            "HTTP request sent, awaiting response... 200 OK\n",
            "Length: 16959458032 (16G) [application/octet-stream]\n",
            "Saving to: ‘fr.tar.gz’\n",
            "\n",
            "fr.tar.gz           100%[===================>]  15.79G  36.3MB/s    in 7m 43s  \n",
            "\n",
            "2020-09-14 07:16:41 (35.0 MB/s) - ‘fr.tar.gz’ saved [16959458032/16959458032]\n",
            "\n"
          ],
          "name": "stdout"
        }
      ]
    },
    {
      "cell_type": "code",
      "metadata": {
        "id": "l-mU_v6bWlRX",
        "colab_type": "code",
        "colab": {}
      },
      "source": [
        "!tar -xf fr.tar.gz"
      ],
      "execution_count": 5,
      "outputs": []
    },
    {
      "cell_type": "code",
      "metadata": {
        "id": "NCwIcISZc-uM",
        "colab_type": "code",
        "colab": {}
      },
      "source": [
        "!ls cv-corpus-5.1-2020-06-22/fr/clips"
      ],
      "execution_count": null,
      "outputs": []
    },
    {
      "cell_type": "code",
      "metadata": {
        "id": "oT9e6GnydSIo",
        "colab_type": "code",
        "colab": {
          "base_uri": "https://localhost:8080/",
          "height": 34
        },
        "outputId": "7efbba4d-cd0c-42af-93fa-955099867aea"
      },
      "source": [
        "list_mp3_files = glob.glob(\"./cv-corpus-5.1-2020-06-22/fr/clips/*.mp3\")\n",
        "print(len(list_mp3_files))"
      ],
      "execution_count": 63,
      "outputs": [
        {
          "output_type": "stream",
          "text": [
            "450077\n"
          ],
          "name": "stdout"
        }
      ]
    },
    {
      "cell_type": "code",
      "metadata": {
        "id": "VZhcL-fY66VE",
        "colab_type": "code",
        "colab": {}
      },
      "source": [
        "train_mp3_data = list_mp3_files[:500]\n",
        "test_mp3_data = list_mp3_files[500:600]"
      ],
      "execution_count": 65,
      "outputs": []
    },
    {
      "cell_type": "code",
      "metadata": {
        "id": "Lh7fws70d-Ln",
        "colab_type": "code",
        "colab": {
          "base_uri": "https://localhost:8080/",
          "height": 237
        },
        "outputId": "c4a4e469-3687-4802-9e48-52fec0e015a7"
      },
      "source": [
        "from tqdm import tqdm\n",
        "\n",
        "labels = []\n",
        "samples = []\n",
        "\n",
        "for i in tdqm(len(train_mp3_data)):\n",
        "\n",
        "    path_to_mp3_file = train_mp3_data[i]\n",
        "    # load mp3 sound to array\n",
        "    loaded_sound = AudioSegment.from_mp3(path_to_mp3_file)\n",
        "    array_sound = np.array(loaded_sound.get_array_of_samples(), np.float64)\n",
        "\n",
        "    # normalize array\n",
        "    mean = np.mean(array_sound, axis=0)\n",
        "    std = np.std(array_sound)\n",
        "    array_sound -= mean\n",
        "    array_sound /= std\n",
        "\n",
        "    # convert label to to F_T_space\n",
        "    f, t, array_stft = stft(array_sound, fs=48000, nperseg=1000)\n",
        "    label_abs_stft = np.abs(array_stft)\n",
        "\n",
        "    labels.append(label_abs_stft)\n",
        "\n",
        "\n",
        "    # add random noise\n",
        "    max_1 = max(array_sound)\n",
        "    noise = np.random.normal(0, 0.75, len(array_sound))\n",
        "    array_sound_noisy = np.add(noise, array_sound)\n",
        "    max_2 = max(array_sound_noisy)\n",
        "    array_sound_noisy *= max_1/max_2\n",
        "\n",
        "    # convert sample to to F_T_space\n",
        "    f, t, array_stft = stft(array_sound_noisy, fs=48000, nperseg=1000)\n",
        "    sample_abs_stft = np.abs(array_stft)\n",
        "\n",
        "    samples.append(sample_abs_stft)\n"
      ],
      "execution_count": 71,
      "outputs": [
        {
          "output_type": "error",
          "ename": "NameError",
          "evalue": "ignored",
          "traceback": [
            "\u001b[0;31m---------------------------------------------------------------------------\u001b[0m",
            "\u001b[0;31mNameError\u001b[0m                                 Traceback (most recent call last)",
            "\u001b[0;32m<ipython-input-71-66157a5cbb37>\u001b[0m in \u001b[0;36m<module>\u001b[0;34m()\u001b[0m\n\u001b[1;32m      4\u001b[0m \u001b[0msamples\u001b[0m \u001b[0;34m=\u001b[0m \u001b[0;34m[\u001b[0m\u001b[0;34m]\u001b[0m\u001b[0;34m\u001b[0m\u001b[0;34m\u001b[0m\u001b[0m\n\u001b[1;32m      5\u001b[0m \u001b[0;34m\u001b[0m\u001b[0m\n\u001b[0;32m----> 6\u001b[0;31m \u001b[0;32mfor\u001b[0m \u001b[0mi\u001b[0m \u001b[0;32min\u001b[0m \u001b[0mtdqm\u001b[0m\u001b[0;34m(\u001b[0m\u001b[0mlen\u001b[0m\u001b[0;34m(\u001b[0m\u001b[0mtrain_mp3_data\u001b[0m\u001b[0;34m)\u001b[0m\u001b[0;34m)\u001b[0m\u001b[0;34m:\u001b[0m\u001b[0;34m\u001b[0m\u001b[0;34m\u001b[0m\u001b[0m\n\u001b[0m\u001b[1;32m      7\u001b[0m \u001b[0;34m\u001b[0m\u001b[0m\n\u001b[1;32m      8\u001b[0m     \u001b[0mpath_to_mp3_file\u001b[0m \u001b[0;34m=\u001b[0m \u001b[0mtrain_mp3_data\u001b[0m\u001b[0;34m[\u001b[0m\u001b[0mi\u001b[0m\u001b[0;34m]\u001b[0m\u001b[0;34m\u001b[0m\u001b[0;34m\u001b[0m\u001b[0m\n",
            "\u001b[0;31mNameError\u001b[0m: name 'tdqm' is not defined"
          ]
        }
      ]
    },
    {
      "cell_type": "code",
      "metadata": {
        "id": "QptYcTYZpFKC",
        "colab_type": "code",
        "colab": {}
      },
      "source": [
        "samplerate = 44100; fs = 10\n",
        "t = np.linspace(0., 1., samplerate)\n",
        "amplitude = np.iinfo(np.int16).max\n",
        "data = amplitude * np.sin(2. * np.pi * fs * t)\n",
        "write(\"example.wav\", samplerate, data)"
      ],
      "execution_count": 21,
      "outputs": []
    },
    {
      "cell_type": "code",
      "metadata": {
        "id": "3BOZbbKGg64v",
        "colab_type": "code",
        "colab": {}
      },
      "source": [
        "# load mp3 sound to array\n",
        "mp3_sound = AudioSegment.from_mp3(\"./original/common_voice_fr_18157595.mp3\")\n",
        "array_sound_mp3 = np.array(mp3_sound.get_array_of_samples())\n",
        "\n",
        "# save original to wav\n",
        "path_to_wav_file = './noised/noised_sound0.wav'\n",
        "write(path_to_wav_file, 48000, array_sound_mp3)\n",
        "\n",
        "# save to mp3 from wav\n",
        "mp3_sound_save = AudioSegment.from_wav(path_to_wav_file)\n",
        "mp3_sound_save.export('./original/noised_sound0.mp3', format='mp3')\n",
        "\n",
        "# load wav sound to array\n",
        "samplerate, wav_sound = read(\"./noised/noised_sound0.wav\")\n",
        "array_sound_wav = np.array(wav_sound, np.float64)\n",
        "\n",
        "# # plot\n",
        "# plt.plot([i for i  in range(len(array_sound_wav))], array_sound_wav, 'b')\n",
        "# plt.show()\n",
        "# plt.plot([i for i  in range(len(array_sound_mp3))], array_sound_mp3, 'r')\n",
        "# plt.show()\n"
      ],
      "execution_count": 32,
      "outputs": []
    },
    {
      "cell_type": "code",
      "metadata": {
        "id": "8oe1HBz36itI",
        "colab_type": "code",
        "colab": {}
      },
      "source": [
        "for i, path_to_mp3_file in enumerate(list_mp3_files[1:2]):\n",
        "\n",
        "    # load mp3 sound to array\n",
        "    loaded_sound = AudioSegment.from_mp3(path_to_mp3_file)\n",
        "    array_sound = np.array(loaded_sound.get_array_of_samples(), np.float64)\n",
        "\n",
        "    # normalize array\n",
        "    mean = np.mean(array_sound, axis=0)\n",
        "    std = np.std(array_sound)\n",
        "    array_sound -= mean\n",
        "    array_sound /= std\n",
        "\n",
        "    # add random noise\n",
        "    max_1 = max(array_sound)\n",
        "    noise = np.random.normal(0, 0.75, len(array_sound))\n",
        "    array_sound_noisy = np.add(noise, array_sound)\n",
        "    max_2 = max(array_sound_noisy)\n",
        "    array_sound_noisy *= max_1/max_2\n",
        "    \n",
        "    # save original to wav\n",
        "    array_sound_noisy_to_save = array_sound_noisy * std\n",
        "    array_sound_noisy_to_save += mean\n",
        "    array_sound_noisy_to_save = np.array(array_sound_noisy_to_save, np.int16)\n",
        "    path_to_wav_file = './noised/noised_sound0.wav'\n",
        "    write(path_to_wav_file, 48000, array_sound_noisy_to_save)\n",
        "\n",
        "    # plot original and noisy\n",
        "    plt.plot([i for i  in range(len(array_sound))], array_sound_noisy, 'r')\n",
        "    plt.plot([i for i  in range(len(array_sound))], array_sound, 'b')\n",
        "    plt.show()\n",
        "\n",
        "    # convert sound to to F_T_space\n",
        "    f, t, array_stft = stft(array_sound_noisy, fs=48000, nperseg=1000)\n",
        "    array_abs_stft = np.abs(array_stft)\n",
        "\n",
        "    plt.pcolormesh(t, f, array_abs_stft)\n",
        "    plt.title('STFT Magnitude')\n",
        "    plt.ylabel('Frequency [Hz]')\n",
        "    plt.xlabel('Time [sec]')\n",
        "    plt.show()\n",
        "\n",
        "    # convert back to sound from F_T_space\n",
        "    t, desnoised_array_sound = istft(array_stft, fs=48000, nperseg=1000)\n",
        "    desnoised_array_sound = np.array(desnoised_array_sound)\n",
        "    desnoised_array_sound *= std\n",
        "    desnoised_array_sound += mean\n",
        "    desnoised_array_sound = np.array(desnoised_array_sound, np.int16)\n",
        "\n",
        "    # save reconverted sound to wav\n",
        "    path_to_wav_file = './denoised/denoised_sound' + str(i) + '.wav'\n",
        "    write(path_to_wav_file, 48000, desnoised_array_sound)\n",
        "    "
      ],
      "execution_count": null,
      "outputs": []
    },
    {
      "cell_type": "code",
      "metadata": {
        "id": "phNo-Z72foqY",
        "colab_type": "code",
        "colab": {
          "base_uri": "https://localhost:8080/",
          "height": 34
        },
        "outputId": "0efdd9de-4584-4b3a-8faf-9ac20134a5e2"
      },
      "source": [
        "import time\n",
        "import sys\n",
        "\n",
        "toolbar_width = 40\n",
        "\n",
        "# setup toolbar\n",
        "sys.stdout.write(\"[%s]\" % (\" \" * toolbar_width))\n",
        "sys.stdout.flush()\n",
        "sys.stdout.write(\"\\b\" * (toolbar_width+1)) # return to start of line, after '['\n",
        "\n",
        "for i in range(toolbar_width):\n",
        "    time.sleep(0.1) # do real work here\n",
        "    # update the bar\n",
        "    sys.stdout.write(\"-\")\n",
        "    sys.stdout.flush()\n",
        "sys.stdout.write(\"]\\n\") # this ends the progress bar"
      ],
      "execution_count": 69,
      "outputs": [
        {
          "output_type": "stream",
          "text": [
            "[                                        ]\b\b\b\b\b\b\b\b\b\b\b\b\b\b\b\b\b\b\b\b\b\b\b\b\b\b\b\b\b\b\b\b\b\b\b\b\b\b\b\b\b----------------------------------------]\n"
          ],
          "name": "stdout"
        }
      ]
    }
  ]
}