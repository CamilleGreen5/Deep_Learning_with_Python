{
  "nbformat": 4,
  "nbformat_minor": 0,
  "metadata": {
    "colab": {
      "name": "Noise_speech_reduction.ipynb",
      "provenance": [],
      "collapsed_sections": [],
      "toc_visible": true,
      "authorship_tag": "ABX9TyPyuqoSC0UdVXuyz1/FaGsJ",
      "include_colab_link": true
    },
    "kernelspec": {
      "name": "python3",
      "display_name": "Python 3"
    },
    "accelerator": "GPU"
  },
  "cells": [
    {
      "cell_type": "markdown",
      "metadata": {
        "id": "view-in-github",
        "colab_type": "text"
      },
      "source": [
        "<a href=\"https://colab.research.google.com/github/CamilleGreen5/Deep_Learning_with_Python/blob/master/Noise_speech_reduction.ipynb\" target=\"_parent\"><img src=\"https://colab.research.google.com/assets/colab-badge.svg\" alt=\"Open In Colab\"/></a>"
      ]
    },
    {
      "cell_type": "code",
      "metadata": {
        "id": "G7GhHp8oNRF9",
        "colab_type": "code",
        "colab": {}
      },
      "source": [
        "import tensorflow as tf\n",
        "import tensorflow_datasets as tfds\n",
        "import numpy as np\n",
        "import matplotlib.pyplot as plt\n",
        "import requests\n",
        "from scipy.io.wavfile import read\n",
        "import glob\n",
        "from pydub import AudioSegment"
      ],
      "execution_count": 46,
      "outputs": []
    },
    {
      "cell_type": "code",
      "metadata": {
        "id": "RzPdSF9gRJcb",
        "colab_type": "code",
        "colab": {
          "base_uri": "https://localhost:8080/",
          "height": 228
        },
        "outputId": "b028d4b1-5e84-42fe-9b8b-887644289818"
      },
      "source": [
        "!wget https://voice-prod-bundler-ee1969a6ce8178826482b88e843c335139bd3fb4.s3.amazonaws.com/cv-corpus-5.1-2020-06-22/fr.tar.gz"
      ],
      "execution_count": 21,
      "outputs": [
        {
          "output_type": "stream",
          "text": [
            "--2020-09-11 13:28:17--  https://voice-prod-bundler-ee1969a6ce8178826482b88e843c335139bd3fb4.s3.amazonaws.com/cv-corpus-5.1-2020-06-22/fr.tar.gz\n",
            "Resolving voice-prod-bundler-ee1969a6ce8178826482b88e843c335139bd3fb4.s3.amazonaws.com (voice-prod-bundler-ee1969a6ce8178826482b88e843c335139bd3fb4.s3.amazonaws.com)... 52.218.228.43\n",
            "Connecting to voice-prod-bundler-ee1969a6ce8178826482b88e843c335139bd3fb4.s3.amazonaws.com (voice-prod-bundler-ee1969a6ce8178826482b88e843c335139bd3fb4.s3.amazonaws.com)|52.218.228.43|:443... connected.\n",
            "HTTP request sent, awaiting response... 200 OK\n",
            "Length: 16959458032 (16G) [application/octet-stream]\n",
            "Saving to: ‘fr.tar.gz’\n",
            "\n",
            "fr.tar.gz           100%[===================>]  15.79G  22.2MB/s    in 12m 39s \n",
            "\n",
            "2020-09-11 13:40:57 (21.3 MB/s) - ‘fr.tar.gz’ saved [16959458032/16959458032]\n",
            "\n"
          ],
          "name": "stdout"
        }
      ]
    },
    {
      "cell_type": "code",
      "metadata": {
        "id": "l-mU_v6bWlRX",
        "colab_type": "code",
        "colab": {}
      },
      "source": [
        "!tar -xf fr.tar.gz"
      ],
      "execution_count": 24,
      "outputs": []
    },
    {
      "cell_type": "code",
      "metadata": {
        "id": "NCwIcISZc-uM",
        "colab_type": "code",
        "colab": {}
      },
      "source": [
        "!ls cv-corpus-5.1-2020-06-22/fr/clips"
      ],
      "execution_count": null,
      "outputs": []
    },
    {
      "cell_type": "code",
      "metadata": {
        "id": "oT9e6GnydSIo",
        "colab_type": "code",
        "colab": {
          "base_uri": "https://localhost:8080/",
          "height": 54
        },
        "outputId": "d02160b2-3d33-4229-b7ff-d79bd09d1007"
      },
      "source": [
        "list_mp3_files = glob.glob(\"./cv-corpus-5.1-2020-06-22/fr/clips/*.mp3\")\n",
        "print(list_mp3_files[:20])"
      ],
      "execution_count": 43,
      "outputs": [
        {
          "output_type": "stream",
          "text": [
            "['./cv-corpus-5.1-2020-06-22/fr/clips/common_voice_fr_18240333.mp3', './cv-corpus-5.1-2020-06-22/fr/clips/common_voice_fr_19862839.mp3', './cv-corpus-5.1-2020-06-22/fr/clips/common_voice_fr_22131171.mp3', './cv-corpus-5.1-2020-06-22/fr/clips/common_voice_fr_18191769.mp3', './cv-corpus-5.1-2020-06-22/fr/clips/common_voice_fr_21979155.mp3', './cv-corpus-5.1-2020-06-22/fr/clips/common_voice_fr_18019912.mp3', './cv-corpus-5.1-2020-06-22/fr/clips/common_voice_fr_19993741.mp3', './cv-corpus-5.1-2020-06-22/fr/clips/common_voice_fr_17997469.mp3', './cv-corpus-5.1-2020-06-22/fr/clips/common_voice_fr_17352112.mp3', './cv-corpus-5.1-2020-06-22/fr/clips/common_voice_fr_17838836.mp3', './cv-corpus-5.1-2020-06-22/fr/clips/common_voice_fr_18013646.mp3', './cv-corpus-5.1-2020-06-22/fr/clips/common_voice_fr_19753103.mp3', './cv-corpus-5.1-2020-06-22/fr/clips/common_voice_fr_19763981.mp3', './cv-corpus-5.1-2020-06-22/fr/clips/common_voice_fr_18384036.mp3', './cv-corpus-5.1-2020-06-22/fr/clips/common_voice_fr_18578829.mp3', './cv-corpus-5.1-2020-06-22/fr/clips/common_voice_fr_21823641.mp3', './cv-corpus-5.1-2020-06-22/fr/clips/common_voice_fr_20253211.mp3', './cv-corpus-5.1-2020-06-22/fr/clips/common_voice_fr_19306944.mp3', './cv-corpus-5.1-2020-06-22/fr/clips/common_voice_fr_19519024.mp3', './cv-corpus-5.1-2020-06-22/fr/clips/common_voice_fr_19757185.mp3']\n"
          ],
          "name": "stdout"
        }
      ]
    },
    {
      "cell_type": "code",
      "metadata": {
        "id": "Lh7fws70d-Ln",
        "colab_type": "code",
        "colab": {
          "base_uri": "https://localhost:8080/",
          "height": 265
        },
        "outputId": "b5a18b82-4ef1-4351-f283-1c43e01b0127"
      },
      "source": [
        "for path_to_mp3_file in list_mp3_files[:1]:\n",
        "    loaded_sound = AudioSegment.from_mp3(path_to_mp3_file)\n",
        "    array_sound = np.array(loaded_file.get_array_of_samples(), np.float64)\n",
        "    # plt.plot([i for i  in range(len(array_sound))], array_sound)\n",
        "    mean = np.mean(array_sound, axis=0)\n",
        "    std = np.std(array_sound)\n",
        "    array_sound -= mean\n",
        "    array_sound /= std\n",
        "    # plt.plot([i for i  in range(len(array_sound))], array_sound)\n"
      ],
      "execution_count": 68,
      "outputs": [
        {
          "output_type": "display_data",
          "data": {
            "image/png": "[encoded data removed]",
            "text/plain": [
              "<Figure size 432x288 with 1 Axes>"
            ]
          },
          "metadata": {
            "tags": [],
            "needs_background": "light"
          }
        }
      ]
    },
    {
      "cell_type": "code",
      "metadata": {
        "id": "phNo-Z72foqY",
        "colab_type": "code",
        "colab": {}
      },
      "source": [
        ""
      ],
      "execution_count": null,
      "outputs": []
    }
  ]
}