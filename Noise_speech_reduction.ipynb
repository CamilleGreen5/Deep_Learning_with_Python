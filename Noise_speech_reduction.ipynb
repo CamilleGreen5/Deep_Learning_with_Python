{
  "nbformat": 4,
  "nbformat_minor": 0,
  "metadata": {
    "colab": {
      "name": "Noise_speech_reduction.ipynb",
      "provenance": [],
      "collapsed_sections": [],
      "toc_visible": true,
      "authorship_tag": "ABX9TyPSOKAtSEoripyL8WHF5FzC",
      "include_colab_link": true
    },
    "kernelspec": {
      "name": "python3",
      "display_name": "Python 3"
    },
    "accelerator": "GPU"
  },
  "cells": [
    {
      "cell_type": "markdown",
      "metadata": {
        "id": "view-in-github",
        "colab_type": "text"
      },
      "source": [
        "<a href=\"https://colab.research.google.com/github/CamilleGreen5/Deep_Learning_with_Python/blob/master/Noise_speech_reduction.ipynb\" target=\"_parent\"><img src=\"https://colab.research.google.com/assets/colab-badge.svg\" alt=\"Open In Colab\"/></a>"
      ]
    },
    {
      "cell_type": "code",
      "metadata": {
        "id": "f1z8wFLOcZSi",
        "colab_type": "code",
        "colab": {
          "base_uri": "https://localhost:8080/",
          "height": 86
        },
        "outputId": "f2c7ced6-3e5a-43ac-9288-eefda73b27f6"
      },
      "source": [
        "!pip install pydub"
      ],
      "execution_count": 2,
      "outputs": [
        {
          "output_type": "stream",
          "text": [
            "Collecting pydub\n",
            "  Downloading https://files.pythonhosted.org/packages/7b/d1/fbfa79371a8cd9bb15c2e3c480d7e6e340ed5cc55005174e16f48418333a/pydub-0.24.1-py2.py3-none-any.whl\n",
            "Installing collected packages: pydub\n",
            "Successfully installed pydub-0.24.1\n"
          ],
          "name": "stdout"
        }
      ]
    },
    {
      "cell_type": "code",
      "metadata": {
        "id": "G7GhHp8oNRF9",
        "colab_type": "code",
        "colab": {}
      },
      "source": [
        "import tensorflow as tf\n",
        "import tensorflow_datasets as tfds\n",
        "import numpy as np\n",
        "import matplotlib.pyplot as plt\n",
        "import requests\n",
        "from scipy.io.wavfile import read, write\n",
        "from scipy.signal import stft, istft\n",
        "import glob\n",
        "from pydub import AudioSegment"
      ],
      "execution_count": 10,
      "outputs": []
    },
    {
      "cell_type": "code",
      "metadata": {
        "id": "RzPdSF9gRJcb",
        "colab_type": "code",
        "colab": {
          "base_uri": "https://localhost:8080/",
          "height": 228
        },
        "outputId": "57136321-915b-4032-fb2b-8eecec1c19b6"
      },
      "source": [
        "!wget https://voice-prod-bundler-ee1969a6ce8178826482b88e843c335139bd3fb4.s3.amazonaws.com/cv-corpus-5.1-2020-06-22/fr.tar.gz"
      ],
      "execution_count": 4,
      "outputs": [
        {
          "output_type": "stream",
          "text": [
            "--2020-09-14 07:08:58--  https://voice-prod-bundler-ee1969a6ce8178826482b88e843c335139bd3fb4.s3.amazonaws.com/cv-corpus-5.1-2020-06-22/fr.tar.gz\n",
            "Resolving voice-prod-bundler-ee1969a6ce8178826482b88e843c335139bd3fb4.s3.amazonaws.com (voice-prod-bundler-ee1969a6ce8178826482b88e843c335139bd3fb4.s3.amazonaws.com)... 52.218.216.243\n",
            "Connecting to voice-prod-bundler-ee1969a6ce8178826482b88e843c335139bd3fb4.s3.amazonaws.com (voice-prod-bundler-ee1969a6ce8178826482b88e843c335139bd3fb4.s3.amazonaws.com)|52.218.216.243|:443... connected.\n",
            "HTTP request sent, awaiting response... 200 OK\n",
            "Length: 16959458032 (16G) [application/octet-stream]\n",
            "Saving to: ‘fr.tar.gz’\n",
            "\n",
            "fr.tar.gz           100%[===================>]  15.79G  36.3MB/s    in 7m 43s  \n",
            "\n",
            "2020-09-14 07:16:41 (35.0 MB/s) - ‘fr.tar.gz’ saved [16959458032/16959458032]\n",
            "\n"
          ],
          "name": "stdout"
        }
      ]
    },
    {
      "cell_type": "code",
      "metadata": {
        "id": "l-mU_v6bWlRX",
        "colab_type": "code",
        "colab": {}
      },
      "source": [
        "!tar -xf fr.tar.gz"
      ],
      "execution_count": 5,
      "outputs": []
    },
    {
      "cell_type": "code",
      "metadata": {
        "id": "NCwIcISZc-uM",
        "colab_type": "code",
        "colab": {}
      },
      "source": [
        "!ls cv-corpus-5.1-2020-06-22/fr/clips"
      ],
      "execution_count": null,
      "outputs": []
    },
    {
      "cell_type": "code",
      "metadata": {
        "id": "oT9e6GnydSIo",
        "colab_type": "code",
        "colab": {
          "base_uri": "https://localhost:8080/",
          "height": 54
        },
        "outputId": "5c90b5d2-3772-4970-a9e4-f1f1bb6e86e8"
      },
      "source": [
        "list_mp3_files = glob.glob(\"./cv-corpus-5.1-2020-06-22/fr/clips/*.mp3\")\n",
        "print(list_mp3_files[:20])"
      ],
      "execution_count": 7,
      "outputs": [
        {
          "output_type": "stream",
          "text": [
            "['./cv-corpus-5.1-2020-06-22/fr/clips/common_voice_fr_18157595.mp3', './cv-corpus-5.1-2020-06-22/fr/clips/common_voice_fr_20839039.mp3', './cv-corpus-5.1-2020-06-22/fr/clips/common_voice_fr_19741811.mp3', './cv-corpus-5.1-2020-06-22/fr/clips/common_voice_fr_20829250.mp3', './cv-corpus-5.1-2020-06-22/fr/clips/common_voice_fr_18215892.mp3', './cv-corpus-5.1-2020-06-22/fr/clips/common_voice_fr_18646030.mp3', './cv-corpus-5.1-2020-06-22/fr/clips/common_voice_fr_20320167.mp3', './cv-corpus-5.1-2020-06-22/fr/clips/common_voice_fr_19454893.mp3', './cv-corpus-5.1-2020-06-22/fr/clips/common_voice_fr_19798198.mp3', './cv-corpus-5.1-2020-06-22/fr/clips/common_voice_fr_18588960.mp3', './cv-corpus-5.1-2020-06-22/fr/clips/common_voice_fr_22073625.mp3', './cv-corpus-5.1-2020-06-22/fr/clips/common_voice_fr_17816334.mp3', './cv-corpus-5.1-2020-06-22/fr/clips/common_voice_fr_20464898.mp3', './cv-corpus-5.1-2020-06-22/fr/clips/common_voice_fr_20336478.mp3', './cv-corpus-5.1-2020-06-22/fr/clips/common_voice_fr_20238114.mp3', './cv-corpus-5.1-2020-06-22/fr/clips/common_voice_fr_19262613.mp3', './cv-corpus-5.1-2020-06-22/fr/clips/common_voice_fr_19044178.mp3', './cv-corpus-5.1-2020-06-22/fr/clips/common_voice_fr_19637387.mp3', './cv-corpus-5.1-2020-06-22/fr/clips/common_voice_fr_17916424.mp3', './cv-corpus-5.1-2020-06-22/fr/clips/common_voice_fr_20601960.mp3']\n"
          ],
          "name": "stdout"
        }
      ]
    },
    {
      "cell_type": "code",
      "metadata": {
        "id": "Lh7fws70d-Ln",
        "colab_type": "code",
        "colab": {
          "base_uri": "https://localhost:8080/",
          "height": 295
        },
        "outputId": "eb9e7e8b-c75a-479b-e5a5-8e7a8428a075"
      },
      "source": [
        "for i, path_to_mp3_file in enumerate(list_mp3_files[1:2]):\n",
        "\n",
        "    # load mp3 sound to array\n",
        "    loaded_sound = AudioSegment.from_mp3(path_to_mp3_file)\n",
        "    array_sound = np.array(loaded_sound.get_array_of_samples(), np.float32)\n",
        "\n",
        "    # save original to wav\n",
        "    path_to_wav_file = './noised/noised_sound' + str(i) + '.wav'\n",
        "    write(path_to_wav_file, 48000, array_sound)\n",
        "\n",
        "    # normalize array\n",
        "    mean = np.mean(array_sound, axis=0)\n",
        "    std = np.std(array_sound)\n",
        "    array_sound -= mean\n",
        "    array_sound /= std\n",
        "\n",
        "    # add random noise\n",
        "    noise = np.random(0, 1, len(array_sound))\n",
        "    noised_array_sound = np.add(noise, array_sound)\n",
        "\n",
        "    # plot original and noisy\n",
        "    plt.plot([i for i  in range(len(array_sound))], array_sound, 'b')\n",
        "    plt.plot([i for i  in range(len(array_sound))], noised_array_sound, 'r')\n",
        "\n",
        "    # convert sound to to F_T_space\n",
        "    f, t, array_stft = stft(array_sound, fs=48000, nperseg=1000)\n",
        "    array_abs_stft = np.abs(array_stft)\n",
        "\n",
        "    plt.pcolormesh(t, f, array_abs_stft)\n",
        "    plt.title('STFT Magnitude')\n",
        "    plt.ylabel('Frequency [Hz]')\n",
        "    plt.xlabel('Time [sec]')\n",
        "    plt.show()\n",
        "\n",
        "\n",
        "    # convert back to sound from F_T_space\n",
        "    t, desnoised_array_sound = istft(array_stft, fs=48000, nperseg=1000)\n",
        "    desnoised_array_sound = np.array(desnoised_array_sound)\n",
        "    desnoised_array_sound *= std\n",
        "    desnoised_array_sound += mean\n",
        "\n",
        "    # save reconverted sound to wav\n",
        "    path_to_wav_file = './denoised/denoised_sound' + str(i) + '.wav'\n",
        "    write(path_to_wav_file, 48000, desnoised_array_sound)\n",
        "    \n",
        "\n"
      ],
      "execution_count": 14,
      "outputs": [
        {
          "output_type": "display_data",
          "data": {
            "image/png": "[encoded data removed]",
            "text/plain": [
              "<Figure size 432x288 with 1 Axes>"
            ]
          },
          "metadata": {
            "tags": [],
            "needs_background": "light"
          }
        }
      ]
    },
    {
      "cell_type": "code",
      "metadata": {
        "id": "gRScZCECje9F",
        "colab_type": "code",
        "colab": {}
      },
      "source": [
        ""
      ],
      "execution_count": null,
      "outputs": []
    },
    {
      "cell_type": "code",
      "metadata": {
        "id": "3BOZbbKGg64v",
        "colab_type": "code",
        "colab": {}
      },
      "source": [
        ""
      ],
      "execution_count": null,
      "outputs": []
    },
    {
      "cell_type": "code",
      "metadata": {
        "id": "phNo-Z72foqY",
        "colab_type": "code",
        "colab": {}
      },
      "source": [
        ""
      ],
      "execution_count": null,
      "outputs": []
    }
  ]
}