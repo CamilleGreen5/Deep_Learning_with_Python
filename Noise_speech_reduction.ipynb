{
  "nbformat": 4,
  "nbformat_minor": 0,
  "metadata": {
    "colab": {
      "name": "Noise_speech_reduction.ipynb",
      "provenance": [],
      "collapsed_sections": [],
      "authorship_tag": "ABX9TyOxMNAMkeAdqUgCDDb0MW69",
      "include_colab_link": true
    },
    "kernelspec": {
      "name": "python3",
      "display_name": "Python 3"
    },
    "accelerator": "GPU",
    "widgets": {
      "application/vnd.jupyter.widget-state+json": {
        "890172e3ec144ec493b00a71f860730b": {
          "model_module": "@jupyter-widgets/controls",
          "model_name": "HBoxModel",
          "state": {
            "_view_name": "HBoxView",
            "_dom_classes": [],
            "_model_name": "HBoxModel",
            "_view_module": "@jupyter-widgets/controls",
            "_model_module_version": "1.5.0",
            "_view_count": null,
            "_view_module_version": "1.5.0",
            "box_style": "",
            "layout": "IPY_MODEL_81dcbcf5488a45e79100f0ed5605f99c",
            "_model_module": "@jupyter-widgets/controls",
            "children": [
              "IPY_MODEL_c2d68d52bf764f5c97d13eff6f153815",
              "IPY_MODEL_2a1fe862b33041828e5659f40b4ecb62"
            ]
          }
        },
        "81dcbcf5488a45e79100f0ed5605f99c": {
          "model_module": "@jupyter-widgets/base",
          "model_name": "LayoutModel",
          "state": {
            "_view_name": "LayoutView",
            "grid_template_rows": null,
            "right": null,
            "justify_content": null,
            "_view_module": "@jupyter-widgets/base",
            "overflow": null,
            "_model_module_version": "1.2.0",
            "_view_count": null,
            "flex_flow": null,
            "width": null,
            "min_width": null,
            "border": null,
            "align_items": null,
            "bottom": null,
            "_model_module": "@jupyter-widgets/base",
            "top": null,
            "grid_column": null,
            "overflow_y": null,
            "overflow_x": null,
            "grid_auto_flow": null,
            "grid_area": null,
            "grid_template_columns": null,
            "flex": null,
            "_model_name": "LayoutModel",
            "justify_items": null,
            "grid_row": null,
            "max_height": null,
            "align_content": null,
            "visibility": null,
            "align_self": null,
            "height": null,
            "min_height": null,
            "padding": null,
            "grid_auto_rows": null,
            "grid_gap": null,
            "max_width": null,
            "order": null,
            "_view_module_version": "1.2.0",
            "grid_template_areas": null,
            "object_position": null,
            "object_fit": null,
            "grid_auto_columns": null,
            "margin": null,
            "display": null,
            "left": null
          }
        },
        "c2d68d52bf764f5c97d13eff6f153815": {
          "model_module": "@jupyter-widgets/controls",
          "model_name": "FloatProgressModel",
          "state": {
            "_view_name": "ProgressView",
            "style": "IPY_MODEL_c2fad0c87430464a9ab06e6a3a882994",
            "_dom_classes": [],
            "description": "100%",
            "_model_name": "FloatProgressModel",
            "bar_style": "success",
            "max": 1,
            "_view_module": "@jupyter-widgets/controls",
            "_model_module_version": "1.5.0",
            "value": 1,
            "_view_count": null,
            "_view_module_version": "1.5.0",
            "orientation": "horizontal",
            "min": 0,
            "description_tooltip": null,
            "_model_module": "@jupyter-widgets/controls",
            "layout": "IPY_MODEL_4cb402a70d0f493d82f29de7a5e76538"
          }
        },
        "2a1fe862b33041828e5659f40b4ecb62": {
          "model_module": "@jupyter-widgets/controls",
          "model_name": "HTMLModel",
          "state": {
            "_view_name": "HTMLView",
            "style": "IPY_MODEL_233ec8544522471dad34bcae6cc8f444",
            "_dom_classes": [],
            "description": "",
            "_model_name": "HTMLModel",
            "placeholder": "​",
            "_view_module": "@jupyter-widgets/controls",
            "_model_module_version": "1.5.0",
            "value": " 1/1 [00:00&lt;00:00,  2.91it/s]",
            "_view_count": null,
            "_view_module_version": "1.5.0",
            "description_tooltip": null,
            "_model_module": "@jupyter-widgets/controls",
            "layout": "IPY_MODEL_86dac853b53f4a1ab7faf33241f245d8"
          }
        },
        "c2fad0c87430464a9ab06e6a3a882994": {
          "model_module": "@jupyter-widgets/controls",
          "model_name": "ProgressStyleModel",
          "state": {
            "_view_name": "StyleView",
            "_model_name": "ProgressStyleModel",
            "description_width": "initial",
            "_view_module": "@jupyter-widgets/base",
            "_model_module_version": "1.5.0",
            "_view_count": null,
            "_view_module_version": "1.2.0",
            "bar_color": null,
            "_model_module": "@jupyter-widgets/controls"
          }
        },
        "4cb402a70d0f493d82f29de7a5e76538": {
          "model_module": "@jupyter-widgets/base",
          "model_name": "LayoutModel",
          "state": {
            "_view_name": "LayoutView",
            "grid_template_rows": null,
            "right": null,
            "justify_content": null,
            "_view_module": "@jupyter-widgets/base",
            "overflow": null,
            "_model_module_version": "1.2.0",
            "_view_count": null,
            "flex_flow": null,
            "width": null,
            "min_width": null,
            "border": null,
            "align_items": null,
            "bottom": null,
            "_model_module": "@jupyter-widgets/base",
            "top": null,
            "grid_column": null,
            "overflow_y": null,
            "overflow_x": null,
            "grid_auto_flow": null,
            "grid_area": null,
            "grid_template_columns": null,
            "flex": null,
            "_model_name": "LayoutModel",
            "justify_items": null,
            "grid_row": null,
            "max_height": null,
            "align_content": null,
            "visibility": null,
            "align_self": null,
            "height": null,
            "min_height": null,
            "padding": null,
            "grid_auto_rows": null,
            "grid_gap": null,
            "max_width": null,
            "order": null,
            "_view_module_version": "1.2.0",
            "grid_template_areas": null,
            "object_position": null,
            "object_fit": null,
            "grid_auto_columns": null,
            "margin": null,
            "display": null,
            "left": null
          }
        },
        "233ec8544522471dad34bcae6cc8f444": {
          "model_module": "@jupyter-widgets/controls",
          "model_name": "DescriptionStyleModel",
          "state": {
            "_view_name": "StyleView",
            "_model_name": "DescriptionStyleModel",
            "description_width": "",
            "_view_module": "@jupyter-widgets/base",
            "_model_module_version": "1.5.0",
            "_view_count": null,
            "_view_module_version": "1.2.0",
            "_model_module": "@jupyter-widgets/controls"
          }
        },
        "86dac853b53f4a1ab7faf33241f245d8": {
          "model_module": "@jupyter-widgets/base",
          "model_name": "LayoutModel",
          "state": {
            "_view_name": "LayoutView",
            "grid_template_rows": null,
            "right": null,
            "justify_content": null,
            "_view_module": "@jupyter-widgets/base",
            "overflow": null,
            "_model_module_version": "1.2.0",
            "_view_count": null,
            "flex_flow": null,
            "width": null,
            "min_width": null,
            "border": null,
            "align_items": null,
            "bottom": null,
            "_model_module": "@jupyter-widgets/base",
            "top": null,
            "grid_column": null,
            "overflow_y": null,
            "overflow_x": null,
            "grid_auto_flow": null,
            "grid_area": null,
            "grid_template_columns": null,
            "flex": null,
            "_model_name": "LayoutModel",
            "justify_items": null,
            "grid_row": null,
            "max_height": null,
            "align_content": null,
            "visibility": null,
            "align_self": null,
            "height": null,
            "min_height": null,
            "padding": null,
            "grid_auto_rows": null,
            "grid_gap": null,
            "max_width": null,
            "order": null,
            "_view_module_version": "1.2.0",
            "grid_template_areas": null,
            "object_position": null,
            "object_fit": null,
            "grid_auto_columns": null,
            "margin": null,
            "display": null,
            "left": null
          }
        }
      }
    }
  },
  "cells": [
    {
      "cell_type": "markdown",
      "metadata": {
        "id": "view-in-github",
        "colab_type": "text"
      },
      "source": [
        "<a href=\"https://colab.research.google.com/github/CamilleGreen5/Deep_Learning_with_Python/blob/master/Noise_speech_reduction.ipynb\" target=\"_parent\"><img src=\"https://colab.research.google.com/assets/colab-badge.svg\" alt=\"Open In Colab\"/></a>"
      ]
    },
    {
      "cell_type": "code",
      "metadata": {
        "id": "tfXnXSBj-05D",
        "colab_type": "code",
        "colab": {}
      },
      "source": [
        "# !pip install tqdm\n",
        "# !pip install pydub"
      ],
      "execution_count": null,
      "outputs": []
    },
    {
      "cell_type": "code",
      "metadata": {
        "id": "RzPdSF9gRJcb",
        "colab_type": "code",
        "colab": {}
      },
      "source": [
        "# !wget https://voice-prod-bundler-ee1969a6ce8178826482b88e843c335139bd3fb4.s3.amazonaws.com/cv-corpus-5.1-2020-06-22/fr.tar.gz"
      ],
      "execution_count": null,
      "outputs": []
    },
    {
      "cell_type": "code",
      "metadata": {
        "id": "l-mU_v6bWlRX",
        "colab_type": "code",
        "colab": {}
      },
      "source": [
        "# !tar -xf fr.tar.gz"
      ],
      "execution_count": 5,
      "outputs": []
    },
    {
      "cell_type": "code",
      "metadata": {
        "id": "G7GhHp8oNRF9",
        "colab_type": "code",
        "colab": {}
      },
      "source": [
        "import tensorflow as tf\n",
        "import tensorflow_datasets as tfds\n",
        "import numpy as np\n",
        "import matplotlib.pyplot as plt\n",
        "from scipy.io.wavfile import read, write\n",
        "from scipy.signal import stft, istft\n",
        "import glob\n",
        "from pydub import AudioSegment\n",
        "from tensorflow.keras import models, layers\n",
        "from tqdm.notebook import tqdm"
      ],
      "execution_count": 5,
      "outputs": []
    },
    {
      "cell_type": "code",
      "metadata": {
        "id": "mPIzv03vcSmK",
        "colab_type": "code",
        "colab": {
          "base_uri": "https://localhost:8080/",
          "height": 34
        },
        "outputId": "145bf7a1-d9f6-4503-e9eb-1970f075b515"
      },
      "source": [
        "list_mp3_files = glob.glob(\"./cv-corpus-5.1-2020-06-22/fr/clips/*.mp3\")\n",
        "train_mp3_data = list_mp3_files[:-2000]\n",
        "test_mp3_data = list_mp3_files[-2000:]\n",
        "print(len(train_mp3_data))"
      ],
      "execution_count": 6,
      "outputs": [
        {
          "output_type": "stream",
          "text": [
            "448077\n"
          ],
          "name": "stdout"
        }
      ]
    },
    {
      "cell_type": "code",
      "metadata": {
        "id": "Y5YPnEf4AS7m",
        "colab_type": "code",
        "colab": {}
      },
      "source": [
        "def build_model():\n",
        "\n",
        "    model = models.Sequential()\n",
        "    model.add(layers.Dense(1000, activation='relu', input_shape=(501,)))\n",
        "    model.add(layers.Dense(1000, activation='relu'))\n",
        "    model.add(layers.Dense(501, activation='sigmoid'))\n",
        "    model.compile(optimizer='rmsprop', loss='binary_crossentropy', metrics=['acc'])\n",
        "\n",
        "    return model"
      ],
      "execution_count": 7,
      "outputs": []
    },
    {
      "cell_type": "code",
      "metadata": {
        "id": "PPia7BpDe3d5",
        "colab_type": "code",
        "colab": {}
      },
      "source": [
        "def reshape_data(samples, labels):\n",
        "\n",
        "    shapes = np.shape(samples)\n",
        "\n",
        "    samples = np.transpose(samples)\n",
        "    labels = np.transpose(labels)\n",
        "\n",
        "    samples = np.reshape(samples, (1, shapes[0]*2000, 501))\n",
        "    labels = np.reshape(labels, (1, shapes[0]*2000, 501))\n",
        "\n",
        "    samples = np.squeeze(samples)\n",
        "    labels = np.squeeze(labels)\n",
        "\n",
        "    return samples, labels"
      ],
      "execution_count": 8,
      "outputs": []
    },
    {
      "cell_type": "code",
      "metadata": {
        "id": "aOdsq0ea13dj",
        "colab_type": "code",
        "colab": {}
      },
      "source": [
        "def add_noise(array_sound):\n",
        "          \n",
        "    max_1 = max(array_sound)\n",
        "    noise = np.random.normal(0, 0.75, len(array_sound))\n",
        "    array_sound_noisy = np.add(noise, array_sound)\n",
        "    max_2 = max(array_sound_noisy)\n",
        "    array_sound_noisy *= max_1/max_2\n",
        "\n",
        "    return array_sound_noisy"
      ],
      "execution_count": 9,
      "outputs": []
    },
    {
      "cell_type": "code",
      "metadata": {
        "id": "Lh7fws70d-Ln",
        "colab_type": "code",
        "colab": {}
      },
      "source": [
        "def load_and_convert_data_with_label(train_mp3_data):\n",
        "\n",
        "    labels = []\n",
        "    samples = []\n",
        "    i = 0\n",
        "\n",
        "    for path_to_mp3_file in tqdm(train_mp3_data):\n",
        "\n",
        "        # load mp3 sound to array\n",
        "        loaded_sound = AudioSegment.from_mp3(path_to_mp3_file)\n",
        "        array_sound = np.array(loaded_sound.get_array_of_samples(), np.float64)\n",
        "\n",
        "        # normalize array\n",
        "        mean = np.mean(array_sound, axis=0)\n",
        "        std = np.std(array_sound)\n",
        "        array_sound -= mean\n",
        "        array_sound /= std\n",
        "\n",
        "        # convert label to to F_T_space\n",
        "        f, t, array_stft = stft(array_sound, fs=48000, nperseg=1000)\n",
        "        original_abs_stft = np.abs(array_stft)\n",
        "\n",
        "        # padding \n",
        "        pad_length = 2000 - np.shape(original_abs_stft)[1]\n",
        "        original_abs_stft = np.pad(original_abs_stft, ((0,0), (0, pad_length)))\n",
        "\n",
        "        # add random noise\n",
        "        array_sound_noisy = add_noise(array_sound)\n",
        "\n",
        "        # convert sample to to F_T_space\n",
        "        f, t, array_stft = stft(array_sound_noisy, fs=48000, nperseg=1000)\n",
        "        sample_abs_stft = np.abs(array_stft)\n",
        "\n",
        "        # padding \n",
        "        pad_length = 2000 - np.shape(sample_abs_stft)[1]\n",
        "        sample_abs_stft = np.pad(sample_abs_stft, ((0,0), (0, pad_length)))\n",
        "\n",
        "        label_abs_stft = np.where(abs(sample_abs_stft-original_abs_stft) > sample_abs_stft/2, 0, 1)\n",
        "\n",
        "        labels.append(label_abs_stft)\n",
        "        samples.append(sample_abs_stft)\n",
        "        i+=1\n",
        "\n",
        "    samples = np.array(samples)\n",
        "    labels = np.array(labels)\n",
        "    return samples, labels, mean, std"
      ],
      "execution_count": 10,
      "outputs": []
    },
    {
      "cell_type": "code",
      "metadata": {
        "id": "VZhcL-fY66VE",
        "colab_type": "code",
        "colab": {}
      },
      "source": [
        "nb_epoch = 5\n",
        "\n",
        "train_loss = []\n",
        "train_acc = []\n",
        "val_loss = []\n",
        "val_acc = []\n",
        "\n",
        "model = build_model()\n",
        "\n",
        "for k in range(0, len(list_mp3_files)//200):\n",
        "\n",
        "    train_mp3_data = list_mp3_files[k*200:(k+1)*200]\n",
        "\n",
        "    print(\"\\n CONVERTING DATA \\n\")\n",
        "    samples, labels = load_and_convert_data_with_label(train_mp3_data)\n",
        "    # print(np.shape(samples))\n",
        "\n",
        "    print(\"\\n RESHAPING DATA \\n\")\n",
        "    samples, labels = reshape_data(samples, labels)\n",
        "\n",
        "    print(\"\\n FITTING MODEL \\n\")\n",
        "    history_part = model.fit( samples, labels, epochs=50, batch_size=2000, validation_split=0.15, shuffle=True)\n",
        "\n",
        "    history_dict_part = history_part.history\n",
        "    train_acc_values_part = history_dict_part['acc']\n",
        "    train_loss_values_part = history_dict_part['loss']\n",
        "    val_acc_values_part = history_dict_part['val_acc']\n",
        "    val_loss_values_part = history_dict_part['val_loss']\n",
        "  \n",
        "    train_loss.append(train_loss_values_part)\n",
        "    train_acc.append(train_acc_values_part)\n",
        "    val_loss.append(val_loss_values_part)\n",
        "    val_acc.append(val_acc_values_part)\n"
      ],
      "execution_count": null,
      "outputs": []
    },
    {
      "cell_type": "code",
      "metadata": {
        "id": "h8Slq3RqATFn",
        "colab_type": "code",
        "colab": {
          "base_uri": "https://localhost:8080/",
          "height": 295
        },
        "outputId": "33f06fab-0f51-42b3-b27a-8a3a8b4f4976"
      },
      "source": [
        "epochs = range(1, len(train_acc)+1)\n",
        "plt.plot(epochs, train_acc, 'b', label='Training_acc')\n",
        "plt.plot(epochs, val_acc, 'bo', label='Validation_acc)\n",
        "plt.title('Training and Validation Accuracy')\n",
        "plt.xlabel('Epochs')\n",
        "plt.ylabel('Accuracy_values')\n",
        "plt.legend()\n",
        "\n",
        "plt.show()"
      ],
      "execution_count": 15,
      "outputs": [
        {
          "output_type": "display_data",
          "data": {
            "image/png": "[encoded data removed]",
            "text/plain": [
              "<Figure size 432x288 with 1 Axes>"
            ]
          },
          "metadata": {
            "tags": [],
            "needs_background": "light"
          }
        }
      ]
    },
    {
      "cell_type": "code",
      "metadata": {
        "id": "PCvAGiW-Orqj",
        "colab_type": "code",
        "colab": {
          "base_uri": "https://localhost:8080/",
          "height": 295
        },
        "outputId": "d7d17146-9c2e-4678-a841-ab082bbb5378"
      },
      "source": [
        "epochs = range(1, len(train_loss)+1)\n",
        "plt.plot(epochs, train_loss, 'b', label='Training_loss')\n",
        "plt.plot(epochs, val_loss, 'bo', label='Validation_loss)\n",
        "plt.title('Training and Validation Loss')\n",
        "plt.xlabel('Epochs')\n",
        "plt.ylabel('Loss_values')\n",
        "plt.legend()\n",
        "\n",
        "plt.show()"
      ],
      "execution_count": 17,
      "outputs": [
        {
          "output_type": "display_data",
          "data": {
            "image/png": "[encoded data removed]",
            "text/plain": [
              "<Figure size 432x288 with 1 Axes>"
            ]
          },
          "metadata": {
            "tags": [],
            "needs_background": "light"
          }
        }
      ]
    },
    {
      "cell_type": "code",
      "metadata": {
        "id": "xcgQig1r1CnL",
        "colab_type": "code",
        "colab": {}
      },
      "source": [
        "def load_and_convert_data(train_mp3_data, add_noise_to_sample=False):\n",
        "\n",
        "    samples = []\n",
        "    i = 0\n",
        "\n",
        "    for path_to_mp3_file in tqdm(train_mp3_data):\n",
        "\n",
        "        # load mp3 sound to array\n",
        "        loaded_sound = AudioSegment.from_mp3(path_to_mp3_file)\n",
        "        array_sound = np.array(loaded_sound.get_array_of_samples(), np.float64)\n",
        "\n",
        "        # normalize array\n",
        "        mean = np.mean(array_sound, axis=0)\n",
        "        std = np.std(array_sound)\n",
        "        array_sound -= mean\n",
        "        array_sound /= std\n",
        "\n",
        "        if add_noise_to_sample:\n",
        "            array_sound = add_noise(array_sound)\n",
        "\n",
        "        # convert sample to to F_T_space\n",
        "        f, t, array_stft = stft(array_sound, fs=48000, nperseg=1000)\n",
        "        sample_abs_stft = np.abs(array_stft)\n",
        "\n",
        "        # padding \n",
        "        pad_length = 2000 - np.shape(sample_abs_stft)[1]\n",
        "        sample_abs_stft = np.pad(sample_abs_stft, ((0,0), (0, pad_length)))\n",
        "\n",
        "        samples.append(sample_abs_stft)\n",
        "        i+=1\n",
        "\n",
        "    samples = np.array(samples)\n",
        "\n",
        "    return samples, mean, std"
      ],
      "execution_count": 11,
      "outputs": []
    },
    {
      "cell_type": "code",
      "metadata": {
        "id": "zHbpPOU0yjet",
        "colab_type": "code",
        "colab": {}
      },
      "source": [
        "list_files = [\"./original/common_voice_fr_18157595.mp3\"]\n",
        "samples, mean, std = load_and_convert_data(list_files, True)\n",
        "denoised_array_sound = denoising(samples, mean, std)\n",
        "\n",
        "# save reconverted sound to wav\n",
        "path_to_wav_file = './denoised/denoised_sound0.wav'\n",
        "write(path_to_wav_file, 48000, desnoised_array_sound)\n",
        "    "
      ],
      "execution_count": null,
      "outputs": []
    },
    {
      "cell_type": "code",
      "metadata": {
        "id": "SdUwkCvMo_PQ",
        "colab_type": "code",
        "colab": {}
      },
      "source": [
        "def denoising(samples, mean, std):\n",
        "    \n",
        "    # load model\n",
        "\n",
        "    # predict and apply mask\n",
        "    mask = model.predict(samples)\n",
        "    denoised_sound_stft = samples*mask\n",
        "\n",
        "    # convert back to sound from F_T_space\n",
        "    t, desnoised_array_sound = istft(denoised_sound_stft, fs=48000, nperseg=1000)\n",
        "    desnoised_array_sound = np.array(desnoised_array_sound)\n",
        "    desnoised_array_sound *= std\n",
        "    desnoised_array_sound += mean\n",
        "    desnoised_array_sound = np.array(desnoised_array_sound, np.int16)\n",
        "\n",
        "    return desnoised_array_sound\n",
        "\n",
        "\n",
        "\n"
      ],
      "execution_count": null,
      "outputs": []
    },
    {
      "cell_type": "code",
      "metadata": {
        "id": "hCrZhjspIr3S",
        "colab_type": "code",
        "colab": {}
      },
      "source": [
        "\n",
        "\n",
        "\n",
        "\n",
        "\n",
        "\n",
        "\n",
        "\n",
        "\n",
        "\n",
        "\n",
        "\n",
        "\n",
        "\n",
        "\n",
        "\n"
      ],
      "execution_count": null,
      "outputs": []
    },
    {
      "cell_type": "code",
      "metadata": {
        "id": "2ldhKQWHlWmJ",
        "colab_type": "code",
        "colab": {}
      },
      "source": [
        "def unison_shuffled_copies(a, b):\n",
        "    assert len(a) == len(b)\n",
        "    p = np.random.permutation(len(a))\n",
        "    return a[p], b[p]"
      ],
      "execution_count": 8,
      "outputs": []
    },
    {
      "cell_type": "code",
      "metadata": {
        "id": "3BOZbbKGg64v",
        "colab_type": "code",
        "colab": {}
      },
      "source": [
        "# load mp3 sound to array\n",
        "mp3_sound = AudioSegment.from_mp3(\"./original/common_voice_fr_18157595.mp3\")\n",
        "array_sound_mp3 = np.array(mp3_sound.get_array_of_samples())\n",
        "\n",
        "# save original to wav\n",
        "path_to_wav_file = './noised/noised_sound0.wav'\n",
        "write(path_to_wav_file, 48000, array_sound_mp3)\n",
        "\n",
        "# save to mp3 from wav\n",
        "mp3_sound_save = AudioSegment.from_wav(path_to_wav_file)\n",
        "mp3_sound_save.export('./original/noised_sound0.mp3', format='mp3')\n",
        "\n",
        "# load wav sound to array\n",
        "samplerate, wav_sound = read(\"./noised/noised_sound0.wav\")\n",
        "array_sound_wav = np.array(wav_sound, np.float64)\n",
        "\n",
        "# # plot\n",
        "# plt.plot([i for i  in range(len(array_sound_wav))], array_sound_wav, 'b')\n",
        "# plt.show()\n",
        "# plt.plot([i for i  in range(len(array_sound_mp3))], array_sound_mp3, 'r')\n",
        "# plt.show()\n"
      ],
      "execution_count": 32,
      "outputs": []
    },
    {
      "cell_type": "code",
      "metadata": {
        "id": "8oe1HBz36itI",
        "colab_type": "code",
        "colab": {}
      },
      "source": [
        "for i, path_to_mp3_file in enumerate(list_mp3_files[1:2]):\n",
        "\n",
        "    # load mp3 sound to array\n",
        "    loaded_sound = AudioSegment.from_mp3(path_to_mp3_file)\n",
        "    array_sound = np.array(loaded_sound.get_array_of_samples(), np.float64)\n",
        "\n",
        "    # normalize array\n",
        "    mean = np.mean(array_sound, axis=0)\n",
        "    std = np.std(array_sound)\n",
        "    array_sound -= mean\n",
        "    array_sound /= std\n",
        "\n",
        "    # add random noise\n",
        "    max_1 = max(array_sound)\n",
        "    noise = np.random.normal(0, 0.75, len(array_sound))\n",
        "    array_sound_noisy = np.add(noise, array_sound)\n",
        "    max_2 = max(array_sound_noisy)\n",
        "    array_sound_noisy *= max_1/max_2\n",
        "    \n",
        "    # save original to wav\n",
        "    array_sound_noisy_to_save = array_sound_noisy * std\n",
        "    array_sound_noisy_to_save += mean\n",
        "    array_sound_noisy_to_save = np.array(array_sound_noisy_to_save, np.int16)\n",
        "    path_to_wav_file = './noised/noised_sound0.wav'\n",
        "    write(path_to_wav_file, 48000, array_sound_noisy_to_save)\n",
        "\n",
        "    # plot original and noisy\n",
        "    plt.plot([i for i  in range(len(array_sound))], array_sound_noisy, 'r')\n",
        "    plt.plot([i for i  in range(len(array_sound))], array_sound, 'b')\n",
        "    plt.show()\n",
        "\n",
        "    # convert sound to to F_T_space\n",
        "    f, t, array_stft = stft(array_sound_noisy, fs=48000, nperseg=1000)\n",
        "    array_abs_stft = np.abs(array_stft)\n",
        "\n",
        "    plt.pcolormesh(t, f, array_abs_stft)\n",
        "    plt.title('STFT Magnitude')\n",
        "    plt.ylabel('Frequency [Hz]')\n",
        "    plt.xlabel('Time [sec]')\n",
        "    plt.show()\n",
        "\n",
        "    # convert back to sound from F_T_space\n",
        "    t, desnoised_array_sound = istft(array_stft, fs=48000, nperseg=1000)\n",
        "    desnoised_array_sound = np.array(desnoised_array_sound)\n",
        "    desnoised_array_sound *= std\n",
        "    desnoised_array_sound += mean\n",
        "    desnoised_array_sound = np.array(desnoised_array_sound, np.int16)\n",
        "\n",
        "    # save reconverted sound to wav\n",
        "    path_to_wav_file = './denoised/denoised_sound' + str(i) + '.wav'\n",
        "    write(path_to_wav_file, 48000, desnoised_array_sound)\n",
        "    "
      ],
      "execution_count": null,
      "outputs": []
    },
    {
      "cell_type": "code",
      "metadata": {
        "id": "phNo-Z72foqY",
        "colab_type": "code",
        "colab": {
          "base_uri": "https://localhost:8080/",
          "height": 69
        },
        "outputId": "25d5309e-edcd-4021-e142-f541d1bdfcc5"
      },
      "source": [
        "for path_to_mp3_file in tqdm(train_mp3_data):\n",
        "    # print(i)\n",
        "    a =1"
      ],
      "execution_count": 78,
      "outputs": [
        {
          "output_type": "stream",
          "text": [
            "\n",
            "\n",
            "100%|██████████| 500/500 [00:00<00:00, 310643.16it/s]\n"
          ],
          "name": "stderr"
        }
      ]
    },
    {
      "cell_type": "code",
      "metadata": {
        "id": "zh0r2hNIDaCT",
        "colab_type": "code",
        "colab": {
          "base_uri": "https://localhost:8080/",
          "height": 101,
          "referenced_widgets": [
            "890172e3ec144ec493b00a71f860730b",
            "81dcbcf5488a45e79100f0ed5605f99c",
            "c2d68d52bf764f5c97d13eff6f153815",
            "2a1fe862b33041828e5659f40b4ecb62",
            "c2fad0c87430464a9ab06e6a3a882994",
            "4cb402a70d0f493d82f29de7a5e76538",
            "233ec8544522471dad34bcae6cc8f444",
            "86dac853b53f4a1ab7faf33241f245d8"
          ]
        },
        "outputId": "af50ecbf-4af9-43b0-be9f-0809fe27d373"
      },
      "source": [
        "\n",
        "samples, labels, mean, std = load_and_convert_data_with_label(list_mp3_files[1:2])\n",
        "\n",
        "print(np.shape(samples))\n",
        "print(np.shape(labels))\n",
        "\n",
        "desnoised_array_stft = samples[0]*labels[0]\n",
        "\n",
        "# convert back to sound from F_T_space\n",
        "t, desnoised_array_sound = istft(desnoised_array_stft, fs=48000, nperseg=1000)\n",
        "desnoised_array_sound = np.array(desnoised_array_sound)\n",
        "desnoised_array_sound *= std\n",
        "desnoised_array_sound += mean\n",
        "desnoised_array_sound = np.array(desnoised_array_sound, np.int16)\n",
        "\n",
        "# save reconverted sound to wav\n",
        "path_to_wav_file = './denoised/denoised_sound0.wav'\n",
        "write(path_to_wav_file, 48000, desnoised_array_sound)\n",
        "\n"
      ],
      "execution_count": 16,
      "outputs": [
        {
          "output_type": "display_data",
          "data": {
            "application/vnd.jupyter.widget-view+json": {
              "model_id": "890172e3ec144ec493b00a71f860730b",
              "version_minor": 0,
              "version_major": 2
            },
            "text/plain": [
              "HBox(children=(FloatProgress(value=0.0, max=1.0), HTML(value='')))"
            ]
          },
          "metadata": {
            "tags": []
          }
        },
        {
          "output_type": "stream",
          "text": [
            "\n",
            "(1, 501, 2000)\n",
            "(1, 501, 2000)\n"
          ],
          "name": "stdout"
        }
      ]
    },
    {
      "cell_type": "code",
      "metadata": {
        "id": "ciH7B_fTnMGO",
        "colab_type": "code",
        "colab": {}
      },
      "source": [
        ""
      ],
      "execution_count": null,
      "outputs": []
    }
  ]
}